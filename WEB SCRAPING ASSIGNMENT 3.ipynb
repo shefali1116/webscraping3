{
 "cells": [
  {
   "cell_type": "markdown",
   "metadata": {},
   "source": [
    "# Q 1:"
   ]
  },
  {
   "cell_type": "code",
   "execution_count": 3,
   "metadata": {},
   "outputs": [
    {
     "name": "stdout",
     "output_type": "stream",
     "text": [
      "Requirement already satisfied: selenium in c:\\users\\lenovo\\anaconda3\\lib\\site-packages (3.141.0)\n",
      "Requirement already satisfied: urllib3 in c:\\users\\lenovo\\anaconda3\\lib\\site-packages (from selenium) (1.25.11)\n"
     ]
    }
   ],
   "source": [
    "#lets first install the selenium library\n",
    "!pip install selenium"
   ]
  },
  {
   "cell_type": "code",
   "execution_count": 4,
   "metadata": {},
   "outputs": [],
   "source": [
    "#lets now import all the required libraries\n",
    "import selenium\n",
    "import pandas as pd\n",
    "from selenium import webdriver"
   ]
  },
  {
   "cell_type": "code",
   "execution_count": 5,
   "metadata": {},
   "outputs": [],
   "source": [
    "#lets first connect to the web driver\n",
    "driver= webdriver.Chrome(r\"c:\\chromedriver.exe\")"
   ]
  },
  {
   "cell_type": "code",
   "execution_count": 4,
   "metadata": {},
   "outputs": [],
   "source": [
    "driver.get('https://www.amazon.com/')"
   ]
  },
  {
   "cell_type": "markdown",
   "metadata": {},
   "source": [
    "searching for Electronics"
   ]
  },
  {
   "cell_type": "code",
   "execution_count": 5,
   "metadata": {},
   "outputs": [],
   "source": [
    "#finding element for product search bar\n",
    "search_pr= driver.find_element_by_id('twotabsearchtextbox')\n",
    "search_pr.send_keys(\"Electronics\")\n",
    "search_btn=driver.find_element_by_xpath(\"//div[@class='nav-search-submit nav-sprite']\")\n",
    "search_btn.click()"
   ]
  },
  {
   "cell_type": "code",
   "execution_count": 6,
   "metadata": {},
   "outputs": [],
   "source": [
    "#specifying the url of the webpage to be scraped\n",
    "url=\"https://www.amazon.com/s?k=Electronics&ref=nb_sb_noss\""
   ]
  },
  {
   "cell_type": "code",
   "execution_count": 7,
   "metadata": {},
   "outputs": [],
   "source": [
    "#lets open the webpage through our web driver\n",
    "driver.get(url)"
   ]
  },
  {
   "cell_type": "code",
   "execution_count": 11,
   "metadata": {},
   "outputs": [],
   "source": [
    "search_pro=driver.find_element_by_xpath(\"//li[@class='a-spacing-micro']/span\")\n",
    "search_pro.click()"
   ]
  },
  {
   "cell_type": "code",
   "execution_count": 13,
   "metadata": {},
   "outputs": [
    {
     "data": {
      "text/plain": [
       "'Samsung Electronics'"
      ]
     },
     "execution_count": 13,
     "metadata": {},
     "output_type": "execute_result"
    }
   ],
   "source": [
    "search_pro= driver.find_element_by_id('p_89/Samsung Electronics')\n",
    "search_pro.text"
   ]
  },
  {
   "cell_type": "code",
   "execution_count": 14,
   "metadata": {},
   "outputs": [],
   "source": [
    "search_pro=driver.find_element_by_xpath(\"//span[@class='a-size-base a-color-base']\")\n",
    "search_pro.click()"
   ]
  },
  {
   "cell_type": "markdown",
   "metadata": {},
   "source": [
    "Now Lets search for particular product i.e. smart tv under electronics"
   ]
  },
  {
   "cell_type": "code",
   "execution_count": 15,
   "metadata": {},
   "outputs": [],
   "source": [
    "search_pr= driver.find_element_by_id('twotabsearchtextbox')\n",
    "search_pr.send_keys(\"Smart TV\")\n",
    "search_btn=driver.find_element_by_xpath(\"//div[@class='nav-search-submit nav-sprite']\")\n",
    "search_btn.click()"
   ]
  },
  {
   "cell_type": "markdown",
   "metadata": {},
   "source": [
    "Results Shown for Smart TV."
   ]
  },
  {
   "cell_type": "markdown",
   "metadata": {},
   "source": [
    "# Q 2:"
   ]
  },
  {
   "cell_type": "markdown",
   "metadata": {},
   "source": [
    "So, Now lets first create 4 empty lists, in this lists the data will be stored while scraping.We have created 4 empty lists for 4 features we have to extract.\n",
    "\n",
    "1.job_title 2.job_location 3.company_name 4.experience_required\n",
    "\n",
    "\n",
    "\n",
    "1.Brand Name\n",
    "2.Name of the Product\n",
    "3.Rating\n",
    "4.No. of Ratings\n",
    "5.Price\n",
    "6.Return/Exchange\n",
    "7.Expected Delivery\n",
    "8.Availability\n",
    "9.Other Details\n",
    "10.Product URL"
   ]
  },
  {
   "cell_type": "code",
   "execution_count": 19,
   "metadata": {},
   "outputs": [],
   "source": [
    "Brand_Name=[]\n",
    "Name_of_the_Product=[]\n",
    "Rating=[]\n",
    "No_of_Ratings=[]\n",
    "Price=[]\n",
    "Return_Exchange=[]\n",
    "Expected_Delivery=[]\n",
    "Availability=[]\n",
    "Other_Details=[]\n",
    "Product_URL=[]"
   ]
  },
  {
   "cell_type": "markdown",
   "metadata": {},
   "source": [
    "Brand Name\n",
    "\n",
    "\n",
    "First, we will extract all the tags where we have the Brand Names. Let me show you on the webpage in which tags the brand names are put."
   ]
  },
  {
   "cell_type": "code",
   "execution_count": 25,
   "metadata": {},
   "outputs": [
    {
     "data": {
      "text/plain": [
       "[<selenium.webdriver.remote.webelement.WebElement (session=\"a4ca53d47756accbe7f6e4b5f675bf55\", element=\"8d2ded44-9d8f-4225-94df-8338b708f22f\")>,\n",
       " <selenium.webdriver.remote.webelement.WebElement (session=\"a4ca53d47756accbe7f6e4b5f675bf55\", element=\"e169da98-6a6e-4f8c-8695-b96f6d67cbd4\")>,\n",
       " <selenium.webdriver.remote.webelement.WebElement (session=\"a4ca53d47756accbe7f6e4b5f675bf55\", element=\"ad720dd5-021b-448a-ad1d-e042fe07cfea\")>,\n",
       " <selenium.webdriver.remote.webelement.WebElement (session=\"a4ca53d47756accbe7f6e4b5f675bf55\", element=\"55fcb7a9-4d01-45b6-aaca-d768a3f04b83\")>,\n",
       " <selenium.webdriver.remote.webelement.WebElement (session=\"a4ca53d47756accbe7f6e4b5f675bf55\", element=\"8ab3b34e-e674-4097-b09a-07a3acaaa82c\")>,\n",
       " <selenium.webdriver.remote.webelement.WebElement (session=\"a4ca53d47756accbe7f6e4b5f675bf55\", element=\"c08f36d6-c374-419e-b478-65288dda2921\")>,\n",
       " <selenium.webdriver.remote.webelement.WebElement (session=\"a4ca53d47756accbe7f6e4b5f675bf55\", element=\"c3279a5d-6e31-45b8-b72b-b9b084c451c8\")>,\n",
       " <selenium.webdriver.remote.webelement.WebElement (session=\"a4ca53d47756accbe7f6e4b5f675bf55\", element=\"d565f858-099e-4b8f-8ade-dc51f5a00e65\")>,\n",
       " <selenium.webdriver.remote.webelement.WebElement (session=\"a4ca53d47756accbe7f6e4b5f675bf55\", element=\"59f1752d-a32c-43f2-a88f-b769a564e497\")>,\n",
       " <selenium.webdriver.remote.webelement.WebElement (session=\"a4ca53d47756accbe7f6e4b5f675bf55\", element=\"61a76a5f-d6af-426a-a28e-6b410c7559e0\")>,\n",
       " <selenium.webdriver.remote.webelement.WebElement (session=\"a4ca53d47756accbe7f6e4b5f675bf55\", element=\"d68d0698-a8c7-4dc9-b9ac-eec59a11c7e9\")>,\n",
       " <selenium.webdriver.remote.webelement.WebElement (session=\"a4ca53d47756accbe7f6e4b5f675bf55\", element=\"97d9ec1f-42ef-4e97-80b1-3783605d1f6f\")>,\n",
       " <selenium.webdriver.remote.webelement.WebElement (session=\"a4ca53d47756accbe7f6e4b5f675bf55\", element=\"178b6451-af61-4458-b964-e45f265c246f\")>,\n",
       " <selenium.webdriver.remote.webelement.WebElement (session=\"a4ca53d47756accbe7f6e4b5f675bf55\", element=\"325c2bb9-6467-4495-ad9f-f843ea8b2e69\")>,\n",
       " <selenium.webdriver.remote.webelement.WebElement (session=\"a4ca53d47756accbe7f6e4b5f675bf55\", element=\"c75a57cf-1a32-48ce-9fa7-8240c7404c86\")>,\n",
       " <selenium.webdriver.remote.webelement.WebElement (session=\"a4ca53d47756accbe7f6e4b5f675bf55\", element=\"6d37888e-7d9d-4d20-9fe5-8c761719222c\")>,\n",
       " <selenium.webdriver.remote.webelement.WebElement (session=\"a4ca53d47756accbe7f6e4b5f675bf55\", element=\"5e204c54-74f5-405e-a887-07417acb6592\")>,\n",
       " <selenium.webdriver.remote.webelement.WebElement (session=\"a4ca53d47756accbe7f6e4b5f675bf55\", element=\"15ae8cb7-9bb6-427c-b034-4204d89d3d5d\")>,\n",
       " <selenium.webdriver.remote.webelement.WebElement (session=\"a4ca53d47756accbe7f6e4b5f675bf55\", element=\"8811c89a-d43b-406a-8c34-3e6f69da8492\")>,\n",
       " <selenium.webdriver.remote.webelement.WebElement (session=\"a4ca53d47756accbe7f6e4b5f675bf55\", element=\"7cbfe7a4-9212-4aee-822d-4318c1731d40\")>,\n",
       " <selenium.webdriver.remote.webelement.WebElement (session=\"a4ca53d47756accbe7f6e4b5f675bf55\", element=\"52a28154-a852-4043-afc6-31d81a89a4bb\")>,\n",
       " <selenium.webdriver.remote.webelement.WebElement (session=\"a4ca53d47756accbe7f6e4b5f675bf55\", element=\"53b4ed33-51ca-47c8-b0bc-d0e6f31e63cf\")>]"
      ]
     },
     "execution_count": 25,
     "metadata": {},
     "output_type": "execute_result"
    }
   ],
   "source": [
    "#so lets extract all the tags having the brand names\n",
    "brand_names=driver.find_elements_by_xpath(\"//span[@class='a-size-medium a-color-base a-text-normal']\")\n",
    "brand_names[0:50]"
   ]
  },
  {
   "cell_type": "markdown",
   "metadata": {},
   "source": [
    "Now we will extract the text from these tags one by one by looping over these tags"
   ]
  },
  {
   "cell_type": "code",
   "execution_count": 26,
   "metadata": {
    "scrolled": false
   },
   "outputs": [
    {
     "data": {
      "text/plain": [
       "['Toshiba 32LF221U21 32-inch Smart HD 720p TV - Fire TV Edition, Released 2020',\n",
       " 'RALENO 1080P Webcam, Dual Built-in Microphones, Full HD Video Camera for Computers PC Laptop Desktop, USB Plug and Play, Compatible with Zoom/Skype/Facetime/Teams, PC Mac Laptop Desktop',\n",
       " 'Samsung Electronics UN32N5300AFXZA 32\" 1080p Smart LED TV (2018), Black',\n",
       " 'LG Electronics 24LM530S-PU 24-Inch HD webOS 3.5 Smart TV',\n",
       " 'LG Electronics 24LJ4540 24-Inch 720p LED TV , Black',\n",
       " 'Samsung Electronics UN32M4500A 32-Inch 720p Smart LED TV (2017 Model)',\n",
       " 'Blackmagic Design SmartScope Duo 4K',\n",
       " 'LG Electronics 32LJ500B 32-Inch 720p LED TV (2017 Model)',\n",
       " 'Samsung 65-inch 4K QLED Frame TV with Alexa Built-in (QN65LS03AAFXZA, 2021 Model)',\n",
       " 'Samsung UN65KS9000 65-Inch 4K Ultra HD Smart LED TV (2016 Model)',\n",
       " 'TCL 32-inch 3-Series 720p Roku Smart TV - 32S335, 2021 Model',\n",
       " 'JAM Symphony WiFi Home Audio Speaker with Amazon Alexa Voice Service, Stream Music, Built-in Intercom, Sync up to 8 Speakers for Home Audio, Control Speakers with Smartphone App, HX-W14901 Black',\n",
       " 'TCL 43-inch 4K UHD Smart LED TV - 43S435, 2021 Model',\n",
       " 'ASURION 4 Year Television Protection Plan with Tech Support $250-299.99',\n",
       " 'Hisense 40-Inch Class H4 Series LED Roku Smart TV with Alexa Compatibility (40H4F, 2020 Model)',\n",
       " 'VIZIO 32-inch D-Series - Full HD 1080p Smart TV with Apple AirPlay and Chromecast Built-in, Screen Mirroring for Second Screens, & 150+ Free Streaming Channels (D32f-G61, 2020)',\n",
       " 'Loctek Ceiling TV Mount Adjustable Bracket For TV Fits 26 to 55 inch TV up to 66 lbs, Max VESA 400x400mm',\n",
       " 'Sceptre U550CV-U 55\" 4K Ultra HD 2160p 60Hz LED HDTV (4K x 2K)',\n",
       " 'SAMSUNG 40 inches LED Smart FHD TV 1080P (2019 Model)',\n",
       " 'VIZIO 40-Inch V-Series - 4K UHD LED HDR Smart TV with Apple AirPlay and Chromecast Built-in, Dolby Vision, HDR10+, HDMI 2.1, Auto Game Mode and Low Latency Gaming (V405-H69, 2020)',\n",
       " 'Hisense 50A6G 50-Inch 4K Ultra HD Android Smart TV with Alexa Compatibility (2021 Model)',\n",
       " 'XRT140 Replaced Remote fit for Vizio Smart TV M50Q7-H1 M55Q7-H1 M65Q7-H1 M55Q8-H1 M65Q8-H1 V555-H1 V655-H9 V705-H13 V405-H9 V405-H19 V505-H9 V505-H19 V605-H3 V655-H4 V655-H9 V655-H19',\n",
       " 'Toshiba 32LF221U21 32-inch Smart HD 720p TV - Fire TV Edition, Released 2020',\n",
       " 'RALENO 1080P Webcam, Dual Built-in Microphones, Full HD Video Camera for Computers PC Laptop Desktop, USB Plug and Play, Compatible with Zoom/Skype/Facetime/Teams, PC Mac Laptop Desktop',\n",
       " 'Samsung Electronics UN32N5300AFXZA 32\" 1080p Smart LED TV (2018), Black',\n",
       " 'LG Electronics 24LM530S-PU 24-Inch HD webOS 3.5 Smart TV',\n",
       " 'LG Electronics 24LJ4540 24-Inch 720p LED TV , Black',\n",
       " 'Samsung Electronics UN32M4500A 32-Inch 720p Smart LED TV (2017 Model)',\n",
       " 'Blackmagic Design SmartScope Duo 4K',\n",
       " 'LG Electronics 32LJ500B 32-Inch 720p LED TV (2017 Model)',\n",
       " 'Samsung 65-inch 4K QLED Frame TV with Alexa Built-in (QN65LS03AAFXZA, 2021 Model)',\n",
       " 'Samsung UN65KS9000 65-Inch 4K Ultra HD Smart LED TV (2016 Model)',\n",
       " 'TCL 32-inch 3-Series 720p Roku Smart TV - 32S335, 2021 Model',\n",
       " 'JAM Symphony WiFi Home Audio Speaker with Amazon Alexa Voice Service, Stream Music, Built-in Intercom, Sync up to 8 Speakers for Home Audio, Control Speakers with Smartphone App, HX-W14901 Black',\n",
       " 'TCL 43-inch 4K UHD Smart LED TV - 43S435, 2021 Model',\n",
       " 'ASURION 4 Year Television Protection Plan with Tech Support $250-299.99',\n",
       " 'Hisense 40-Inch Class H4 Series LED Roku Smart TV with Alexa Compatibility (40H4F, 2020 Model)',\n",
       " 'VIZIO 32-inch D-Series - Full HD 1080p Smart TV with Apple AirPlay and Chromecast Built-in, Screen Mirroring for Second Screens, & 150+ Free Streaming Channels (D32f-G61, 2020)',\n",
       " 'Loctek Ceiling TV Mount Adjustable Bracket For TV Fits 26 to 55 inch TV up to 66 lbs, Max VESA 400x400mm',\n",
       " 'Sceptre U550CV-U 55\" 4K Ultra HD 2160p 60Hz LED HDTV (4K x 2K)',\n",
       " 'SAMSUNG 40 inches LED Smart FHD TV 1080P (2019 Model)',\n",
       " 'VIZIO 40-Inch V-Series - 4K UHD LED HDR Smart TV with Apple AirPlay and Chromecast Built-in, Dolby Vision, HDR10+, HDMI 2.1, Auto Game Mode and Low Latency Gaming (V405-H69, 2020)',\n",
       " 'Hisense 50A6G 50-Inch 4K Ultra HD Android Smart TV with Alexa Compatibility (2021 Model)',\n",
       " 'XRT140 Replaced Remote fit for Vizio Smart TV M50Q7-H1 M55Q7-H1 M65Q7-H1 M55Q8-H1 M65Q8-H1 V555-H1 V655-H9 V705-H13 V405-H9 V405-H19 V505-H9 V505-H19 V605-H3 V655-H4 V655-H9 V655-H19',\n",
       " 'Toshiba 32LF221U21 32-inch Smart HD 720p TV - Fire TV Edition, Released 2020',\n",
       " 'RALENO 1080P Webcam, Dual Built-in Microphones, Full HD Video Camera for Computers PC Laptop Desktop, USB Plug and Play, Compatible with Zoom/Skype/Facetime/Teams, PC Mac Laptop Desktop',\n",
       " 'Samsung Electronics UN32N5300AFXZA 32\" 1080p Smart LED TV (2018), Black',\n",
       " 'LG Electronics 24LM530S-PU 24-Inch HD webOS 3.5 Smart TV',\n",
       " 'LG Electronics 24LJ4540 24-Inch 720p LED TV , Black',\n",
       " 'Samsung Electronics UN32M4500A 32-Inch 720p Smart LED TV (2017 Model)']"
      ]
     },
     "execution_count": 26,
     "metadata": {},
     "output_type": "execute_result"
    }
   ],
   "source": [
    "#Now the text of the brand names is insid the tags extracted above.\n",
    "\n",
    "#so we will run a loop to iterate over the tags extracted above and extract the text inside them\n",
    "\n",
    "for i in brand_names:\n",
    "    brand=i.text\n",
    "    Brand_Name.append(brand)\n",
    "Brand_Name[0:50]"
   ]
  },
  {
   "cell_type": "markdown",
   "metadata": {},
   "source": [
    "Name of the Product\n",
    "\n",
    "\n",
    "Now We will extract all the tags where we have the name of the products. Let me show you on the webpage in which tags the name of the products are put."
   ]
  },
  {
   "cell_type": "code",
   "execution_count": 28,
   "metadata": {},
   "outputs": [
    {
     "data": {
      "text/plain": [
       "[<selenium.webdriver.remote.webelement.WebElement (session=\"a4ca53d47756accbe7f6e4b5f675bf55\", element=\"8d2ded44-9d8f-4225-94df-8338b708f22f\")>,\n",
       " <selenium.webdriver.remote.webelement.WebElement (session=\"a4ca53d47756accbe7f6e4b5f675bf55\", element=\"e169da98-6a6e-4f8c-8695-b96f6d67cbd4\")>,\n",
       " <selenium.webdriver.remote.webelement.WebElement (session=\"a4ca53d47756accbe7f6e4b5f675bf55\", element=\"ad720dd5-021b-448a-ad1d-e042fe07cfea\")>,\n",
       " <selenium.webdriver.remote.webelement.WebElement (session=\"a4ca53d47756accbe7f6e4b5f675bf55\", element=\"55fcb7a9-4d01-45b6-aaca-d768a3f04b83\")>,\n",
       " <selenium.webdriver.remote.webelement.WebElement (session=\"a4ca53d47756accbe7f6e4b5f675bf55\", element=\"8ab3b34e-e674-4097-b09a-07a3acaaa82c\")>,\n",
       " <selenium.webdriver.remote.webelement.WebElement (session=\"a4ca53d47756accbe7f6e4b5f675bf55\", element=\"c08f36d6-c374-419e-b478-65288dda2921\")>,\n",
       " <selenium.webdriver.remote.webelement.WebElement (session=\"a4ca53d47756accbe7f6e4b5f675bf55\", element=\"c3279a5d-6e31-45b8-b72b-b9b084c451c8\")>,\n",
       " <selenium.webdriver.remote.webelement.WebElement (session=\"a4ca53d47756accbe7f6e4b5f675bf55\", element=\"d565f858-099e-4b8f-8ade-dc51f5a00e65\")>,\n",
       " <selenium.webdriver.remote.webelement.WebElement (session=\"a4ca53d47756accbe7f6e4b5f675bf55\", element=\"59f1752d-a32c-43f2-a88f-b769a564e497\")>,\n",
       " <selenium.webdriver.remote.webelement.WebElement (session=\"a4ca53d47756accbe7f6e4b5f675bf55\", element=\"61a76a5f-d6af-426a-a28e-6b410c7559e0\")>,\n",
       " <selenium.webdriver.remote.webelement.WebElement (session=\"a4ca53d47756accbe7f6e4b5f675bf55\", element=\"d68d0698-a8c7-4dc9-b9ac-eec59a11c7e9\")>,\n",
       " <selenium.webdriver.remote.webelement.WebElement (session=\"a4ca53d47756accbe7f6e4b5f675bf55\", element=\"97d9ec1f-42ef-4e97-80b1-3783605d1f6f\")>,\n",
       " <selenium.webdriver.remote.webelement.WebElement (session=\"a4ca53d47756accbe7f6e4b5f675bf55\", element=\"178b6451-af61-4458-b964-e45f265c246f\")>,\n",
       " <selenium.webdriver.remote.webelement.WebElement (session=\"a4ca53d47756accbe7f6e4b5f675bf55\", element=\"325c2bb9-6467-4495-ad9f-f843ea8b2e69\")>,\n",
       " <selenium.webdriver.remote.webelement.WebElement (session=\"a4ca53d47756accbe7f6e4b5f675bf55\", element=\"c75a57cf-1a32-48ce-9fa7-8240c7404c86\")>,\n",
       " <selenium.webdriver.remote.webelement.WebElement (session=\"a4ca53d47756accbe7f6e4b5f675bf55\", element=\"6d37888e-7d9d-4d20-9fe5-8c761719222c\")>,\n",
       " <selenium.webdriver.remote.webelement.WebElement (session=\"a4ca53d47756accbe7f6e4b5f675bf55\", element=\"5e204c54-74f5-405e-a887-07417acb6592\")>,\n",
       " <selenium.webdriver.remote.webelement.WebElement (session=\"a4ca53d47756accbe7f6e4b5f675bf55\", element=\"15ae8cb7-9bb6-427c-b034-4204d89d3d5d\")>,\n",
       " <selenium.webdriver.remote.webelement.WebElement (session=\"a4ca53d47756accbe7f6e4b5f675bf55\", element=\"8811c89a-d43b-406a-8c34-3e6f69da8492\")>,\n",
       " <selenium.webdriver.remote.webelement.WebElement (session=\"a4ca53d47756accbe7f6e4b5f675bf55\", element=\"7cbfe7a4-9212-4aee-822d-4318c1731d40\")>,\n",
       " <selenium.webdriver.remote.webelement.WebElement (session=\"a4ca53d47756accbe7f6e4b5f675bf55\", element=\"52a28154-a852-4043-afc6-31d81a89a4bb\")>,\n",
       " <selenium.webdriver.remote.webelement.WebElement (session=\"a4ca53d47756accbe7f6e4b5f675bf55\", element=\"53b4ed33-51ca-47c8-b0bc-d0e6f31e63cf\")>]"
      ]
     },
     "execution_count": 28,
     "metadata": {},
     "output_type": "execute_result"
    }
   ],
   "source": [
    "#so lets extract all the tags having the name of the product\n",
    "product_names=driver.find_elements_by_xpath(\"//span[@class='a-size-medium a-color-base a-text-normal']\")\n",
    "product_names[0:50]"
   ]
  },
  {
   "cell_type": "markdown",
   "metadata": {},
   "source": [
    "Now we will extract the text from these tags one by one by looping over these tags"
   ]
  },
  {
   "cell_type": "code",
   "execution_count": 29,
   "metadata": {},
   "outputs": [
    {
     "data": {
      "text/plain": [
       "['Toshiba 32LF221U21 32-inch Smart HD 720p TV - Fire TV Edition, Released 2020',\n",
       " 'RALENO 1080P Webcam, Dual Built-in Microphones, Full HD Video Camera for Computers PC Laptop Desktop, USB Plug and Play, Compatible with Zoom/Skype/Facetime/Teams, PC Mac Laptop Desktop',\n",
       " 'Samsung Electronics UN32N5300AFXZA 32\" 1080p Smart LED TV (2018), Black',\n",
       " 'LG Electronics 24LM530S-PU 24-Inch HD webOS 3.5 Smart TV',\n",
       " 'LG Electronics 24LJ4540 24-Inch 720p LED TV , Black',\n",
       " 'Samsung Electronics UN32M4500A 32-Inch 720p Smart LED TV (2017 Model)',\n",
       " 'Blackmagic Design SmartScope Duo 4K',\n",
       " 'LG Electronics 32LJ500B 32-Inch 720p LED TV (2017 Model)',\n",
       " 'Samsung 65-inch 4K QLED Frame TV with Alexa Built-in (QN65LS03AAFXZA, 2021 Model)',\n",
       " 'Samsung UN65KS9000 65-Inch 4K Ultra HD Smart LED TV (2016 Model)',\n",
       " 'TCL 32-inch 3-Series 720p Roku Smart TV - 32S335, 2021 Model',\n",
       " 'JAM Symphony WiFi Home Audio Speaker with Amazon Alexa Voice Service, Stream Music, Built-in Intercom, Sync up to 8 Speakers for Home Audio, Control Speakers with Smartphone App, HX-W14901 Black',\n",
       " 'TCL 43-inch 4K UHD Smart LED TV - 43S435, 2021 Model',\n",
       " 'ASURION 4 Year Television Protection Plan with Tech Support $250-299.99',\n",
       " 'Hisense 40-Inch Class H4 Series LED Roku Smart TV with Alexa Compatibility (40H4F, 2020 Model)',\n",
       " 'VIZIO 32-inch D-Series - Full HD 1080p Smart TV with Apple AirPlay and Chromecast Built-in, Screen Mirroring for Second Screens, & 150+ Free Streaming Channels (D32f-G61, 2020)',\n",
       " 'Loctek Ceiling TV Mount Adjustable Bracket For TV Fits 26 to 55 inch TV up to 66 lbs, Max VESA 400x400mm',\n",
       " 'Sceptre U550CV-U 55\" 4K Ultra HD 2160p 60Hz LED HDTV (4K x 2K)',\n",
       " 'SAMSUNG 40 inches LED Smart FHD TV 1080P (2019 Model)',\n",
       " 'VIZIO 40-Inch V-Series - 4K UHD LED HDR Smart TV with Apple AirPlay and Chromecast Built-in, Dolby Vision, HDR10+, HDMI 2.1, Auto Game Mode and Low Latency Gaming (V405-H69, 2020)',\n",
       " 'Hisense 50A6G 50-Inch 4K Ultra HD Android Smart TV with Alexa Compatibility (2021 Model)',\n",
       " 'XRT140 Replaced Remote fit for Vizio Smart TV M50Q7-H1 M55Q7-H1 M65Q7-H1 M55Q8-H1 M65Q8-H1 V555-H1 V655-H9 V705-H13 V405-H9 V405-H19 V505-H9 V505-H19 V605-H3 V655-H4 V655-H9 V655-H19']"
      ]
     },
     "execution_count": 29,
     "metadata": {},
     "output_type": "execute_result"
    }
   ],
   "source": [
    "#Now the text of the names of the product is insid the tags extracted above.\n",
    "\n",
    "#so we will run a loop to iterate over the tags extracted above and extract the text inside them\n",
    "\n",
    "for i in product_names:\n",
    "    product=i.text\n",
    "    Name_of_the_Product.append(product)\n",
    "Name_of_the_Product[0:50]"
   ]
  },
  {
   "cell_type": "markdown",
   "metadata": {},
   "source": [
    "Rating"
   ]
  },
  {
   "cell_type": "code",
   "execution_count": 44,
   "metadata": {},
   "outputs": [
    {
     "data": {
      "text/plain": [
       "[<selenium.webdriver.remote.webelement.WebElement (session=\"a4ca53d47756accbe7f6e4b5f675bf55\", element=\"8e12e700-c4c2-406e-9d93-4a0e4a4399e4\")>,\n",
       " <selenium.webdriver.remote.webelement.WebElement (session=\"a4ca53d47756accbe7f6e4b5f675bf55\", element=\"858408aa-c081-47f6-86ed-bd00a27cc984\")>,\n",
       " <selenium.webdriver.remote.webelement.WebElement (session=\"a4ca53d47756accbe7f6e4b5f675bf55\", element=\"119c62ed-c3ec-41cf-99ef-eb92171e5c9f\")>,\n",
       " <selenium.webdriver.remote.webelement.WebElement (session=\"a4ca53d47756accbe7f6e4b5f675bf55\", element=\"bedc690d-b048-4b3d-b30a-8ac3788b32c9\")>,\n",
       " <selenium.webdriver.remote.webelement.WebElement (session=\"a4ca53d47756accbe7f6e4b5f675bf55\", element=\"58fcc66c-2a23-461d-9c67-6e3e4742296a\")>,\n",
       " <selenium.webdriver.remote.webelement.WebElement (session=\"a4ca53d47756accbe7f6e4b5f675bf55\", element=\"8abda48a-c32d-467a-8de1-d376015d8ed7\")>,\n",
       " <selenium.webdriver.remote.webelement.WebElement (session=\"a4ca53d47756accbe7f6e4b5f675bf55\", element=\"c7dfe2e4-384d-4bdb-9d0c-8ed69dd96394\")>,\n",
       " <selenium.webdriver.remote.webelement.WebElement (session=\"a4ca53d47756accbe7f6e4b5f675bf55\", element=\"47bd4802-41c6-4168-b1e8-2718d30699cb\")>,\n",
       " <selenium.webdriver.remote.webelement.WebElement (session=\"a4ca53d47756accbe7f6e4b5f675bf55\", element=\"0627045e-020b-4017-a11d-6de44103e850\")>,\n",
       " <selenium.webdriver.remote.webelement.WebElement (session=\"a4ca53d47756accbe7f6e4b5f675bf55\", element=\"f20dab94-d0a7-4c8d-9749-ee1c84895073\")>,\n",
       " <selenium.webdriver.remote.webelement.WebElement (session=\"a4ca53d47756accbe7f6e4b5f675bf55\", element=\"a1ae96f0-c890-41b3-aad5-ac9da4fcbdeb\")>,\n",
       " <selenium.webdriver.remote.webelement.WebElement (session=\"a4ca53d47756accbe7f6e4b5f675bf55\", element=\"8bd74d63-d6f4-4ed2-9c50-c328d0a071a7\")>,\n",
       " <selenium.webdriver.remote.webelement.WebElement (session=\"a4ca53d47756accbe7f6e4b5f675bf55\", element=\"fb7987b2-35c1-48cf-b8a1-c1039bc66619\")>,\n",
       " <selenium.webdriver.remote.webelement.WebElement (session=\"a4ca53d47756accbe7f6e4b5f675bf55\", element=\"a2becca5-6017-423c-a413-c4e306e279d1\")>,\n",
       " <selenium.webdriver.remote.webelement.WebElement (session=\"a4ca53d47756accbe7f6e4b5f675bf55\", element=\"56698806-c89b-4511-b489-58f1db3ca84f\")>,\n",
       " <selenium.webdriver.remote.webelement.WebElement (session=\"a4ca53d47756accbe7f6e4b5f675bf55\", element=\"e119171e-a392-4db5-a776-2add9da18728\")>,\n",
       " <selenium.webdriver.remote.webelement.WebElement (session=\"a4ca53d47756accbe7f6e4b5f675bf55\", element=\"e19aa3ab-360c-4696-a2fe-9b26f346dded\")>,\n",
       " <selenium.webdriver.remote.webelement.WebElement (session=\"a4ca53d47756accbe7f6e4b5f675bf55\", element=\"81b286a7-933a-4596-8577-72fcb7168c18\")>,\n",
       " <selenium.webdriver.remote.webelement.WebElement (session=\"a4ca53d47756accbe7f6e4b5f675bf55\", element=\"5e32c3e6-f4c2-46d8-8822-59bfa3f46cd4\")>,\n",
       " <selenium.webdriver.remote.webelement.WebElement (session=\"a4ca53d47756accbe7f6e4b5f675bf55\", element=\"a51a999c-305e-461d-968d-0b49312839a6\")>,\n",
       " <selenium.webdriver.remote.webelement.WebElement (session=\"a4ca53d47756accbe7f6e4b5f675bf55\", element=\"fc93bc45-e0ec-46cf-b41b-ce66134c3169\")>,\n",
       " <selenium.webdriver.remote.webelement.WebElement (session=\"a4ca53d47756accbe7f6e4b5f675bf55\", element=\"a72ef204-12a7-48ab-af64-2b8f45e6b6d0\")>,\n",
       " <selenium.webdriver.remote.webelement.WebElement (session=\"a4ca53d47756accbe7f6e4b5f675bf55\", element=\"3cb019b9-f80c-43da-b804-2f44b591e0e8\")>,\n",
       " <selenium.webdriver.remote.webelement.WebElement (session=\"a4ca53d47756accbe7f6e4b5f675bf55\", element=\"097451f7-9902-49ec-980c-c6d716909c2f\")>,\n",
       " <selenium.webdriver.remote.webelement.WebElement (session=\"a4ca53d47756accbe7f6e4b5f675bf55\", element=\"288b858c-39d9-4770-8d5f-a28b410007a4\")>,\n",
       " <selenium.webdriver.remote.webelement.WebElement (session=\"a4ca53d47756accbe7f6e4b5f675bf55\", element=\"59d1dae6-932b-4f06-8ebf-09f9c6bdf258\")>,\n",
       " <selenium.webdriver.remote.webelement.WebElement (session=\"a4ca53d47756accbe7f6e4b5f675bf55\", element=\"c7968d23-e2dc-4368-8c92-17f2aa784230\")>]"
      ]
     },
     "execution_count": 44,
     "metadata": {},
     "output_type": "execute_result"
    }
   ],
   "source": [
    "#Now lets extract all the tags having the ratings\n",
    "ratings=driver.find_elements_by_xpath(\"//span[@class='a-icon-alt']\")\n",
    "ratings[0:50]"
   ]
  },
  {
   "cell_type": "code",
   "execution_count": 45,
   "metadata": {},
   "outputs": [
    {
     "data": {
      "text/plain": [
       "['',\n",
       " '',\n",
       " '',\n",
       " '',\n",
       " '',\n",
       " '',\n",
       " '',\n",
       " '',\n",
       " '',\n",
       " '',\n",
       " '',\n",
       " '',\n",
       " '',\n",
       " '',\n",
       " '',\n",
       " '',\n",
       " '',\n",
       " '',\n",
       " '',\n",
       " '',\n",
       " '',\n",
       " '',\n",
       " '',\n",
       " '',\n",
       " '',\n",
       " '',\n",
       " '',\n",
       " '',\n",
       " '',\n",
       " '',\n",
       " '',\n",
       " '',\n",
       " '',\n",
       " '',\n",
       " '',\n",
       " '',\n",
       " '',\n",
       " '',\n",
       " '',\n",
       " '',\n",
       " '',\n",
       " '',\n",
       " '',\n",
       " '',\n",
       " '',\n",
       " '',\n",
       " '',\n",
       " '',\n",
       " '',\n",
       " '']"
      ]
     },
     "execution_count": 45,
     "metadata": {},
     "output_type": "execute_result"
    }
   ],
   "source": [
    "#Now the text of the brand names is insid the tags extracted above.\n",
    "\n",
    "#so we will run a loop to iterate over the tags extracted above and extract the text inside them\n",
    "\n",
    "for i in ratings:\n",
    "    rating=i.text\n",
    "    Rating.append(rating)\n",
    "Rating[0:50]"
   ]
  },
  {
   "cell_type": "markdown",
   "metadata": {},
   "source": [
    "No of Ratings"
   ]
  },
  {
   "cell_type": "code",
   "execution_count": 46,
   "metadata": {},
   "outputs": [
    {
     "data": {
      "text/plain": [
       "[<selenium.webdriver.remote.webelement.WebElement (session=\"a4ca53d47756accbe7f6e4b5f675bf55\", element=\"e9f9de2b-b6cc-4076-8aef-021f872c5326\")>,\n",
       " <selenium.webdriver.remote.webelement.WebElement (session=\"a4ca53d47756accbe7f6e4b5f675bf55\", element=\"44dba297-f934-4618-8902-dac421b6bcb3\")>,\n",
       " <selenium.webdriver.remote.webelement.WebElement (session=\"a4ca53d47756accbe7f6e4b5f675bf55\", element=\"ba5ed32d-f7ed-4d3f-a251-472e419b37ad\")>,\n",
       " <selenium.webdriver.remote.webelement.WebElement (session=\"a4ca53d47756accbe7f6e4b5f675bf55\", element=\"6cf38339-65bc-4168-8105-7ef84bc7c807\")>,\n",
       " <selenium.webdriver.remote.webelement.WebElement (session=\"a4ca53d47756accbe7f6e4b5f675bf55\", element=\"73dfa500-faf5-497a-b0b9-88ef952c0f27\")>,\n",
       " <selenium.webdriver.remote.webelement.WebElement (session=\"a4ca53d47756accbe7f6e4b5f675bf55\", element=\"4befba8c-488a-4379-a844-0249607c1f82\")>,\n",
       " <selenium.webdriver.remote.webelement.WebElement (session=\"a4ca53d47756accbe7f6e4b5f675bf55\", element=\"d7fc1c24-9571-4dab-8804-66da3e69ddc2\")>,\n",
       " <selenium.webdriver.remote.webelement.WebElement (session=\"a4ca53d47756accbe7f6e4b5f675bf55\", element=\"998217fc-9633-4707-aa70-e30bba4d6572\")>,\n",
       " <selenium.webdriver.remote.webelement.WebElement (session=\"a4ca53d47756accbe7f6e4b5f675bf55\", element=\"d5da808e-edfc-4958-9e70-500a7ee9a216\")>,\n",
       " <selenium.webdriver.remote.webelement.WebElement (session=\"a4ca53d47756accbe7f6e4b5f675bf55\", element=\"67f15253-e732-47fc-b028-9af60393b922\")>,\n",
       " <selenium.webdriver.remote.webelement.WebElement (session=\"a4ca53d47756accbe7f6e4b5f675bf55\", element=\"096e1bba-a9d6-4452-ba59-d590cb563c0f\")>,\n",
       " <selenium.webdriver.remote.webelement.WebElement (session=\"a4ca53d47756accbe7f6e4b5f675bf55\", element=\"e30cc0da-cb1c-4e41-bfe9-057a813ec639\")>,\n",
       " <selenium.webdriver.remote.webelement.WebElement (session=\"a4ca53d47756accbe7f6e4b5f675bf55\", element=\"e2b865ad-041e-4d7a-85e3-72e2405826fb\")>,\n",
       " <selenium.webdriver.remote.webelement.WebElement (session=\"a4ca53d47756accbe7f6e4b5f675bf55\", element=\"30b41cd3-15df-4516-be68-37c873989613\")>,\n",
       " <selenium.webdriver.remote.webelement.WebElement (session=\"a4ca53d47756accbe7f6e4b5f675bf55\", element=\"24645951-6bba-47f4-a80b-072091c302e7\")>,\n",
       " <selenium.webdriver.remote.webelement.WebElement (session=\"a4ca53d47756accbe7f6e4b5f675bf55\", element=\"8e1c7b2b-1bf1-46ce-870b-c7a32d17cba7\")>,\n",
       " <selenium.webdriver.remote.webelement.WebElement (session=\"a4ca53d47756accbe7f6e4b5f675bf55\", element=\"a399ec92-2556-4bdd-85bb-b177cff71c03\")>,\n",
       " <selenium.webdriver.remote.webelement.WebElement (session=\"a4ca53d47756accbe7f6e4b5f675bf55\", element=\"925fe66b-53a0-4121-acbb-4cfc6de6a8fa\")>,\n",
       " <selenium.webdriver.remote.webelement.WebElement (session=\"a4ca53d47756accbe7f6e4b5f675bf55\", element=\"f2086f37-67fc-44f8-be90-f68f97192fb2\")>,\n",
       " <selenium.webdriver.remote.webelement.WebElement (session=\"a4ca53d47756accbe7f6e4b5f675bf55\", element=\"d729d9c8-5d50-4a55-b6b9-7917ac70ff2a\")>,\n",
       " <selenium.webdriver.remote.webelement.WebElement (session=\"a4ca53d47756accbe7f6e4b5f675bf55\", element=\"1dccb586-e7d4-44d9-b7ff-08717341bf68\")>,\n",
       " <selenium.webdriver.remote.webelement.WebElement (session=\"a4ca53d47756accbe7f6e4b5f675bf55\", element=\"3015b218-768d-4a92-97cf-cf44a3520abb\")>,\n",
       " <selenium.webdriver.remote.webelement.WebElement (session=\"a4ca53d47756accbe7f6e4b5f675bf55\", element=\"8757c062-e6ce-4108-ba56-fd200caad814\")>,\n",
       " <selenium.webdriver.remote.webelement.WebElement (session=\"a4ca53d47756accbe7f6e4b5f675bf55\", element=\"a70b8d43-3094-40be-bbc6-ac2f3844ccc0\")>,\n",
       " <selenium.webdriver.remote.webelement.WebElement (session=\"a4ca53d47756accbe7f6e4b5f675bf55\", element=\"5a44e64d-7f5f-4a80-824d-56f6d164a569\")>,\n",
       " <selenium.webdriver.remote.webelement.WebElement (session=\"a4ca53d47756accbe7f6e4b5f675bf55\", element=\"4f5b3cef-3877-4223-b8f1-34dd746ac504\")>,\n",
       " <selenium.webdriver.remote.webelement.WebElement (session=\"a4ca53d47756accbe7f6e4b5f675bf55\", element=\"733a922c-7373-461a-9255-41edaabaa441\")>,\n",
       " <selenium.webdriver.remote.webelement.WebElement (session=\"a4ca53d47756accbe7f6e4b5f675bf55\", element=\"e009ce3a-408e-45ba-b564-4dc246becb12\")>,\n",
       " <selenium.webdriver.remote.webelement.WebElement (session=\"a4ca53d47756accbe7f6e4b5f675bf55\", element=\"c1786de7-621c-4e6f-b027-e9c6a049c870\")>,\n",
       " <selenium.webdriver.remote.webelement.WebElement (session=\"a4ca53d47756accbe7f6e4b5f675bf55\", element=\"753c2d08-b56f-45a2-b7ff-f8ce5479e4b0\")>,\n",
       " <selenium.webdriver.remote.webelement.WebElement (session=\"a4ca53d47756accbe7f6e4b5f675bf55\", element=\"0a6dd050-7870-4a2a-9790-2f571a301750\")>,\n",
       " <selenium.webdriver.remote.webelement.WebElement (session=\"a4ca53d47756accbe7f6e4b5f675bf55\", element=\"24b8b819-1add-41f3-898e-8bc2ace19ff4\")>,\n",
       " <selenium.webdriver.remote.webelement.WebElement (session=\"a4ca53d47756accbe7f6e4b5f675bf55\", element=\"d8742886-1c82-4abf-9daa-0d5990e652b5\")>,\n",
       " <selenium.webdriver.remote.webelement.WebElement (session=\"a4ca53d47756accbe7f6e4b5f675bf55\", element=\"a0370525-8bec-4dad-bdaa-480482b5eacc\")>,\n",
       " <selenium.webdriver.remote.webelement.WebElement (session=\"a4ca53d47756accbe7f6e4b5f675bf55\", element=\"1d9f6c7c-5340-4fe7-bc6d-0d51de41d00a\")>,\n",
       " <selenium.webdriver.remote.webelement.WebElement (session=\"a4ca53d47756accbe7f6e4b5f675bf55\", element=\"ac2932a0-a9cd-4493-a6f0-62cb3bed17a0\")>,\n",
       " <selenium.webdriver.remote.webelement.WebElement (session=\"a4ca53d47756accbe7f6e4b5f675bf55\", element=\"ea86c5e8-8d0d-4bce-87db-45e045ecbc11\")>,\n",
       " <selenium.webdriver.remote.webelement.WebElement (session=\"a4ca53d47756accbe7f6e4b5f675bf55\", element=\"940258ab-1f7b-437b-a8b4-b68b73cb8abd\")>,\n",
       " <selenium.webdriver.remote.webelement.WebElement (session=\"a4ca53d47756accbe7f6e4b5f675bf55\", element=\"7d1daa2b-1bd8-422b-a826-a2ec743813fb\")>,\n",
       " <selenium.webdriver.remote.webelement.WebElement (session=\"a4ca53d47756accbe7f6e4b5f675bf55\", element=\"e0e524d3-f9e2-43a3-b545-47a8e50f46b3\")>,\n",
       " <selenium.webdriver.remote.webelement.WebElement (session=\"a4ca53d47756accbe7f6e4b5f675bf55\", element=\"df61f9eb-c7f3-405e-8f74-048f46c52bfd\")>,\n",
       " <selenium.webdriver.remote.webelement.WebElement (session=\"a4ca53d47756accbe7f6e4b5f675bf55\", element=\"3f0a1b4d-145b-4a2b-9d1f-b7efa564ba95\")>,\n",
       " <selenium.webdriver.remote.webelement.WebElement (session=\"a4ca53d47756accbe7f6e4b5f675bf55\", element=\"b9b854ae-8db7-4bc1-85af-741e44661647\")>]"
      ]
     },
     "execution_count": 46,
     "metadata": {},
     "output_type": "execute_result"
    }
   ],
   "source": [
    "#so lets extract all the tags having nmbr of ratings \n",
    "nmbr_ratings=driver.find_elements_by_xpath(\"//span[@class='a-size-base']\")\n",
    "nmbr_ratings[0:50]"
   ]
  },
  {
   "cell_type": "code",
   "execution_count": 47,
   "metadata": {},
   "outputs": [
    {
     "data": {
      "text/plain": [
       "['Search instead for',\n",
       " 'ElectronicsSmart TV',\n",
       " '15,404',\n",
       " '297',\n",
       " '2,740',\n",
       " '988',\n",
       " '4,098',\n",
       " '1,446',\n",
       " '10',\n",
       " '362',\n",
       " '26',\n",
       " '98',\n",
       " '50,571',\n",
       " '208',\n",
       " '6,291',\n",
       " '2,254',\n",
       " '6,459',\n",
       " '1,311',\n",
       " '1,608',\n",
       " '208',\n",
       " '279',\n",
       " '1,224',\n",
       " '41',\n",
       " '',\n",
       " '',\n",
       " '',\n",
       " '',\n",
       " '',\n",
       " '',\n",
       " '',\n",
       " '',\n",
       " '',\n",
       " '',\n",
       " '',\n",
       " '',\n",
       " '',\n",
       " '',\n",
       " '',\n",
       " '',\n",
       " '',\n",
       " '',\n",
       " '',\n",
       " '']"
      ]
     },
     "execution_count": 47,
     "metadata": {},
     "output_type": "execute_result"
    }
   ],
   "source": [
    "#Now the text of the rating insid the tags extracted above.\n",
    "\n",
    "#so we will run a loop to iterate over the tags extracted above and extract the text inside them\n",
    "\n",
    "for i in nmbr_ratings:\n",
    "    nrating=i.text\n",
    "    No_of_Ratings.append(nrating)\n",
    "No_of_Ratings[0:50]"
   ]
  },
  {
   "cell_type": "markdown",
   "metadata": {},
   "source": [
    "Price"
   ]
  },
  {
   "cell_type": "code",
   "execution_count": 48,
   "metadata": {},
   "outputs": [
    {
     "data": {
      "text/plain": [
       "[<selenium.webdriver.remote.webelement.WebElement (session=\"a4ca53d47756accbe7f6e4b5f675bf55\", element=\"4656edd1-85c8-4e87-b4d7-696b2e46cc38\")>,\n",
       " <selenium.webdriver.remote.webelement.WebElement (session=\"a4ca53d47756accbe7f6e4b5f675bf55\", element=\"c4831ef5-4246-4917-a7e8-72444e7048ab\")>,\n",
       " <selenium.webdriver.remote.webelement.WebElement (session=\"a4ca53d47756accbe7f6e4b5f675bf55\", element=\"c0384b4b-0dc3-4f6f-adca-29e08499f5cd\")>,\n",
       " <selenium.webdriver.remote.webelement.WebElement (session=\"a4ca53d47756accbe7f6e4b5f675bf55\", element=\"f525a01c-71eb-431c-9b98-31b4053d4cee\")>,\n",
       " <selenium.webdriver.remote.webelement.WebElement (session=\"a4ca53d47756accbe7f6e4b5f675bf55\", element=\"6640cec4-d828-44c0-9038-2e0f832c4f06\")>,\n",
       " <selenium.webdriver.remote.webelement.WebElement (session=\"a4ca53d47756accbe7f6e4b5f675bf55\", element=\"9fa9ecff-c1f5-423b-90d8-8837c6ad7e66\")>,\n",
       " <selenium.webdriver.remote.webelement.WebElement (session=\"a4ca53d47756accbe7f6e4b5f675bf55\", element=\"2d0366b6-76d4-4500-bdad-fd82b0800644\")>,\n",
       " <selenium.webdriver.remote.webelement.WebElement (session=\"a4ca53d47756accbe7f6e4b5f675bf55\", element=\"69951694-db50-4667-bed2-80f65d83c27f\")>,\n",
       " <selenium.webdriver.remote.webelement.WebElement (session=\"a4ca53d47756accbe7f6e4b5f675bf55\", element=\"8e361474-9323-4758-a436-50de6fddc5b8\")>,\n",
       " <selenium.webdriver.remote.webelement.WebElement (session=\"a4ca53d47756accbe7f6e4b5f675bf55\", element=\"07709779-6e2e-41d4-8904-33e731a785fc\")>,\n",
       " <selenium.webdriver.remote.webelement.WebElement (session=\"a4ca53d47756accbe7f6e4b5f675bf55\", element=\"020e8541-6a58-4893-b254-7abdbb5fb23d\")>,\n",
       " <selenium.webdriver.remote.webelement.WebElement (session=\"a4ca53d47756accbe7f6e4b5f675bf55\", element=\"808f1f13-319d-4c8d-aaed-3be829408961\")>]"
      ]
     },
     "execution_count": 48,
     "metadata": {},
     "output_type": "execute_result"
    }
   ],
   "source": [
    "#so lets extract all the tags having the price\n",
    "price=driver.find_elements_by_xpath(\"//span[@class='a-price-whole']\")\n",
    "price[0:50]"
   ]
  },
  {
   "cell_type": "code",
   "execution_count": 49,
   "metadata": {},
   "outputs": [
    {
     "data": {
      "text/plain": [
       "['199', '19', '237', '148', '127', '795', '148', '74', '179', '37', '305', '9']"
      ]
     },
     "execution_count": 49,
     "metadata": {},
     "output_type": "execute_result"
    }
   ],
   "source": [
    "#Now the text of the brand names is insid the tags extracted above.\n",
    "\n",
    "#so we will run a loop to iterate over the tags extracted above and extract the text inside them\n",
    "\n",
    "for i in price:\n",
    "    prc=i.text\n",
    "    Price.append(prc)\n",
    "Price[0:50]"
   ]
  },
  {
   "cell_type": "markdown",
   "metadata": {},
   "source": [
    "# Q 3:"
   ]
  },
  {
   "cell_type": "code",
   "execution_count": 50,
   "metadata": {},
   "outputs": [],
   "source": [
    "#lets first connect to the web driver\n",
    "driver= webdriver.Chrome(r\"c:\\chromedriver.exe\")"
   ]
  },
  {
   "cell_type": "code",
   "execution_count": 53,
   "metadata": {},
   "outputs": [],
   "source": [
    "driver.get('https://images.google.com/')"
   ]
  },
  {
   "cell_type": "code",
   "execution_count": 57,
   "metadata": {},
   "outputs": [],
   "source": [
    "\n",
    "import os"
   ]
  },
  {
   "cell_type": "code",
   "execution_count": 58,
   "metadata": {},
   "outputs": [],
   "source": [
    "webdriver_path=os.getcwd()+\"\\\\webdriver\\\\chromedriver.exe\""
   ]
  },
  {
   "cell_type": "code",
   "execution_count": 59,
   "metadata": {},
   "outputs": [],
   "source": [
    "image_path=os.getcwd()+\"\\\\photos\""
   ]
  },
  {
   "cell_type": "code",
   "execution_count": 60,
   "metadata": {},
   "outputs": [],
   "source": [
    "search_key=\"fruits\""
   ]
  },
  {
   "cell_type": "code",
   "execution_count": 61,
   "metadata": {},
   "outputs": [],
   "source": [
    "number_of_images = 100"
   ]
  },
  {
   "cell_type": "code",
   "execution_count": 66,
   "metadata": {},
   "outputs": [
    {
     "ename": "ModuleNotFoundError",
     "evalue": "No module named 'GoogleImageScrapperMaster'",
     "output_type": "error",
     "traceback": [
      "\u001b[1;31m---------------------------------------------------------------------------\u001b[0m",
      "\u001b[1;31mModuleNotFoundError\u001b[0m                       Traceback (most recent call last)",
      "\u001b[1;32m<ipython-input-66-b4aa145e2af4>\u001b[0m in \u001b[0;36m<module>\u001b[1;34m\u001b[0m\n\u001b[1;32m----> 1\u001b[1;33m \u001b[1;32mfrom\u001b[0m \u001b[0mGoogleImageScrapperMaster\u001b[0m \u001b[1;32mimport\u001b[0m \u001b[0mGoogleImageScraperMaster\u001b[0m\u001b[1;33m\u001b[0m\u001b[1;33m\u001b[0m\u001b[0m\n\u001b[0m\u001b[0;32m      2\u001b[0m \u001b[0mimage_scrapper\u001b[0m \u001b[1;33m=\u001b[0m \u001b[0mGoogleImageScraper\u001b[0m\u001b[1;33m(\u001b[0m\u001b[0mwebdriver_path\u001b[0m\u001b[1;33m,\u001b[0m\u001b[0mimage_path\u001b[0m\u001b[1;33m,\u001b[0m\u001b[0msearch_key\u001b[0m\u001b[1;33m,\u001b[0m\u001b[0mnumber_of_images\u001b[0m\u001b[1;33m)\u001b[0m\u001b[1;33m\u001b[0m\u001b[1;33m\u001b[0m\u001b[0m\n",
      "\u001b[1;31mModuleNotFoundError\u001b[0m: No module named 'GoogleImageScrapperMaster'"
     ]
    }
   ],
   "source": [
    "from GoogleImageScrapper import GoogleImageScraper\n",
    "image_scrapper = GoogleImageScraper(webdriver_path,image_path,search_key,number_of_images)"
   ]
  },
  {
   "cell_type": "markdown",
   "metadata": {},
   "source": [
    "# Q 4:"
   ]
  },
  {
   "cell_type": "code",
   "execution_count": 4,
   "metadata": {},
   "outputs": [],
   "source": [
    "driver.get('https://www.flipkart.com/')"
   ]
  },
  {
   "cell_type": "code",
   "execution_count": 5,
   "metadata": {},
   "outputs": [],
   "source": [
    "#finding element for smartphone search bar\n",
    "search_mob= driver.find_element_by_xpath(\"//input[@class='_3704LK']\")\n",
    "search_mob.send_keys(\"realme\")"
   ]
  },
  {
   "cell_type": "code",
   "execution_count": 7,
   "metadata": {},
   "outputs": [],
   "source": [
    "search_btn=driver.find_element_by_xpath(\"//button[@class='L0Z3Pu']\")\n",
    "search_btn.click()"
   ]
  },
  {
   "cell_type": "code",
   "execution_count": 8,
   "metadata": {},
   "outputs": [],
   "source": [
    "#specifying the url of the webpage to be scraped\n",
    "url=\"https://www.flipkart.com/search?q=realme&otracker=search&otracker1=search&marketplace=FLIPKART&as-show=on&as=off\""
   ]
  },
  {
   "cell_type": "code",
   "execution_count": 9,
   "metadata": {},
   "outputs": [],
   "source": [
    "#lets open the webpage through our web driver\n",
    "driver.get(url)"
   ]
  },
  {
   "cell_type": "markdown",
   "metadata": {},
   "source": [
    "Now we will see in the window opened by webdriver whether the webpage has opened or not, Lets check it.\n",
    "\n",
    "So, Now lets first create empty lists, in this lists the data will be stored while scraping.We have created empty lists for features we have to extract.\n",
    "\n",
    "Brand Name\n",
    "Smartphone name  \n",
    "Colour \n",
    "RAM \n",
    "Storage(ROM)\n",
    "Primary Camera\n",
    "Secondary Camera\n",
    "Display Size\n",
    "Display Resolution\n",
    "Processor\n",
    "Processor Cores\n",
    "Battery Capacity\n",
    "Price\n",
    "Product URL"
   ]
  },
  {
   "cell_type": "code",
   "execution_count": 10,
   "metadata": {},
   "outputs": [],
   "source": [
    "Brand_Name=[]\n",
    "Smartphone_name=[]  \n",
    "Colour =[]\n",
    "RAM =[]\n",
    "Storage_ROM=[]\n",
    "Primary_Camera=[]\n",
    "Secondary_Camera=[]\n",
    "Display_Size=[]\n",
    "Display_Resolution=[]\n",
    "Processor=[]\n",
    "Processor_Cores=[]\n",
    "Battery_Capacity=[]\n",
    "Price=[]\n",
    "Product_URL=[]"
   ]
  },
  {
   "cell_type": "markdown",
   "metadata": {},
   "source": [
    "Brand Name\n",
    "\n",
    "First, we will extract all the tags where we have the brand names. Let me show you on the webpage in which tags the brand names are put. But here we searched for realme product. So all the brand name will be Realme"
   ]
  },
  {
   "cell_type": "markdown",
   "metadata": {},
   "source": [
    "Smartphone_name  "
   ]
  },
  {
   "cell_type": "code",
   "execution_count": 74,
   "metadata": {},
   "outputs": [
    {
     "data": {
      "text/plain": [
       "[<selenium.webdriver.remote.webelement.WebElement (session=\"89f3abf4d1c503d7e83db023b7f6e7ef\", element=\"fff23377-63d1-46a7-8b6c-cf55f2eb9472\")>,\n",
       " <selenium.webdriver.remote.webelement.WebElement (session=\"89f3abf4d1c503d7e83db023b7f6e7ef\", element=\"0f027b7c-7a9d-4f45-bffb-9c57d97504d5\")>,\n",
       " <selenium.webdriver.remote.webelement.WebElement (session=\"89f3abf4d1c503d7e83db023b7f6e7ef\", element=\"77d72492-49ce-48f4-b3fd-6c6b289a301f\")>,\n",
       " <selenium.webdriver.remote.webelement.WebElement (session=\"89f3abf4d1c503d7e83db023b7f6e7ef\", element=\"0003d69b-061e-4887-aafd-dc639b5673b2\")>,\n",
       " <selenium.webdriver.remote.webelement.WebElement (session=\"89f3abf4d1c503d7e83db023b7f6e7ef\", element=\"ea092829-33b7-4d00-aa65-70e2120f19c9\")>,\n",
       " <selenium.webdriver.remote.webelement.WebElement (session=\"89f3abf4d1c503d7e83db023b7f6e7ef\", element=\"b4f7d3ad-6ad0-4384-9626-9bac01917f2c\")>,\n",
       " <selenium.webdriver.remote.webelement.WebElement (session=\"89f3abf4d1c503d7e83db023b7f6e7ef\", element=\"a7c6f4cf-9581-4f15-87e5-3bc78b2f6bbf\")>,\n",
       " <selenium.webdriver.remote.webelement.WebElement (session=\"89f3abf4d1c503d7e83db023b7f6e7ef\", element=\"bf9d9344-12f8-418e-be6a-46953c959c09\")>,\n",
       " <selenium.webdriver.remote.webelement.WebElement (session=\"89f3abf4d1c503d7e83db023b7f6e7ef\", element=\"459b6cf5-1aef-4201-ba48-d5a67c54ec41\")>,\n",
       " <selenium.webdriver.remote.webelement.WebElement (session=\"89f3abf4d1c503d7e83db023b7f6e7ef\", element=\"07ba2b4e-ed56-4bce-9fbc-9daf6c324600\")>,\n",
       " <selenium.webdriver.remote.webelement.WebElement (session=\"89f3abf4d1c503d7e83db023b7f6e7ef\", element=\"eece5b6a-9c3a-497d-9fc6-c70a96018ff9\")>,\n",
       " <selenium.webdriver.remote.webelement.WebElement (session=\"89f3abf4d1c503d7e83db023b7f6e7ef\", element=\"48275406-b057-413f-9acf-d49b43c3a68f\")>,\n",
       " <selenium.webdriver.remote.webelement.WebElement (session=\"89f3abf4d1c503d7e83db023b7f6e7ef\", element=\"ad19c087-3d61-4ec5-aaa8-d01ffc10e080\")>,\n",
       " <selenium.webdriver.remote.webelement.WebElement (session=\"89f3abf4d1c503d7e83db023b7f6e7ef\", element=\"04bb6970-2ceb-4fc4-a916-0f1c041537e2\")>,\n",
       " <selenium.webdriver.remote.webelement.WebElement (session=\"89f3abf4d1c503d7e83db023b7f6e7ef\", element=\"d5d7ba52-7cac-4482-8a65-85693ec8823d\")>,\n",
       " <selenium.webdriver.remote.webelement.WebElement (session=\"89f3abf4d1c503d7e83db023b7f6e7ef\", element=\"a2742a6e-9304-438a-9cc4-a6c4f5e05fa8\")>,\n",
       " <selenium.webdriver.remote.webelement.WebElement (session=\"89f3abf4d1c503d7e83db023b7f6e7ef\", element=\"12ed8d3d-fab6-41dd-9709-2b997227d3f1\")>,\n",
       " <selenium.webdriver.remote.webelement.WebElement (session=\"89f3abf4d1c503d7e83db023b7f6e7ef\", element=\"1f252451-91db-479a-879d-5b3c4278a40c\")>,\n",
       " <selenium.webdriver.remote.webelement.WebElement (session=\"89f3abf4d1c503d7e83db023b7f6e7ef\", element=\"46885fcc-31cf-4f4a-934c-26b7ad040614\")>,\n",
       " <selenium.webdriver.remote.webelement.WebElement (session=\"89f3abf4d1c503d7e83db023b7f6e7ef\", element=\"424cd961-2809-4ad5-9085-18c5838ede65\")>,\n",
       " <selenium.webdriver.remote.webelement.WebElement (session=\"89f3abf4d1c503d7e83db023b7f6e7ef\", element=\"11c21e4a-f945-4496-95a4-e91fa593d292\")>,\n",
       " <selenium.webdriver.remote.webelement.WebElement (session=\"89f3abf4d1c503d7e83db023b7f6e7ef\", element=\"657ad363-8822-485d-9674-e54ae47bf785\")>,\n",
       " <selenium.webdriver.remote.webelement.WebElement (session=\"89f3abf4d1c503d7e83db023b7f6e7ef\", element=\"ae98e301-1b20-4309-8359-918d65c7db33\")>,\n",
       " <selenium.webdriver.remote.webelement.WebElement (session=\"89f3abf4d1c503d7e83db023b7f6e7ef\", element=\"d448877d-c59f-456d-bf4e-6e5416d4ea34\")>,\n",
       " <selenium.webdriver.remote.webelement.WebElement (session=\"89f3abf4d1c503d7e83db023b7f6e7ef\", element=\"37f78a50-56d0-4205-b465-0d9c3a002e23\")>,\n",
       " <selenium.webdriver.remote.webelement.WebElement (session=\"89f3abf4d1c503d7e83db023b7f6e7ef\", element=\"ffe7a8df-12b7-40cb-9190-02298f613901\")>,\n",
       " <selenium.webdriver.remote.webelement.WebElement (session=\"89f3abf4d1c503d7e83db023b7f6e7ef\", element=\"e1525b22-69a9-42b5-9879-56c08df373cf\")>,\n",
       " <selenium.webdriver.remote.webelement.WebElement (session=\"89f3abf4d1c503d7e83db023b7f6e7ef\", element=\"597809fe-b01c-4c83-88cb-76f633b58669\")>,\n",
       " <selenium.webdriver.remote.webelement.WebElement (session=\"89f3abf4d1c503d7e83db023b7f6e7ef\", element=\"045e7f7b-288b-41e5-81b2-a94a4c5ff76c\")>,\n",
       " <selenium.webdriver.remote.webelement.WebElement (session=\"89f3abf4d1c503d7e83db023b7f6e7ef\", element=\"8cb50048-aa3a-4ba7-afa2-83efeefbac82\")>,\n",
       " <selenium.webdriver.remote.webelement.WebElement (session=\"89f3abf4d1c503d7e83db023b7f6e7ef\", element=\"6e89c86e-8ba4-41b4-ba54-9cf64b079731\")>,\n",
       " <selenium.webdriver.remote.webelement.WebElement (session=\"89f3abf4d1c503d7e83db023b7f6e7ef\", element=\"517afadc-9ba3-4823-ada5-3f58f57a11a4\")>,\n",
       " <selenium.webdriver.remote.webelement.WebElement (session=\"89f3abf4d1c503d7e83db023b7f6e7ef\", element=\"eb9c00bb-7e02-4714-bf35-4c2656678c2d\")>,\n",
       " <selenium.webdriver.remote.webelement.WebElement (session=\"89f3abf4d1c503d7e83db023b7f6e7ef\", element=\"422716ab-cca9-4837-a130-2cc01e5a02e9\")>,\n",
       " <selenium.webdriver.remote.webelement.WebElement (session=\"89f3abf4d1c503d7e83db023b7f6e7ef\", element=\"5e4caf05-8e9e-4ce2-a262-0485d6501635\")>,\n",
       " <selenium.webdriver.remote.webelement.WebElement (session=\"89f3abf4d1c503d7e83db023b7f6e7ef\", element=\"7c7b5f73-4cd9-4e85-b982-47223c4be06b\")>,\n",
       " <selenium.webdriver.remote.webelement.WebElement (session=\"89f3abf4d1c503d7e83db023b7f6e7ef\", element=\"008b9918-83e7-4caf-b5b7-9cfb3b4d075b\")>,\n",
       " <selenium.webdriver.remote.webelement.WebElement (session=\"89f3abf4d1c503d7e83db023b7f6e7ef\", element=\"517952dd-1540-43b9-89ea-864f08b4aa5e\")>,\n",
       " <selenium.webdriver.remote.webelement.WebElement (session=\"89f3abf4d1c503d7e83db023b7f6e7ef\", element=\"cd0edcbb-3e8b-4a4b-aed8-72072a605e96\")>]"
      ]
     },
     "execution_count": 74,
     "metadata": {},
     "output_type": "execute_result"
    }
   ],
   "source": [
    "#so lets extract all the tags having the smartphone names\n",
    "phone_names=driver.find_elements_by_xpath(\"//div[@class='_4rR01T']\")\n",
    "phone_names[0:39]"
   ]
  },
  {
   "cell_type": "code",
   "execution_count": 75,
   "metadata": {},
   "outputs": [
    {
     "data": {
      "text/plain": [
       "['realme C20 (Cool Blue, 32 GB)',\n",
       " 'realme C20 (Cool Grey, 32 GB)',\n",
       " 'realme C12 (Power Blue, 32 GB)',\n",
       " 'realme C12 (Power Silver, 32 GB)',\n",
       " 'realme Narzo 20 (Victory Blue, 64 GB)',\n",
       " 'realme Narzo 20 (Glory Silver, 64 GB)',\n",
       " 'realme Narzo 30A (Laser Black, 32 GB)',\n",
       " 'realme Narzo 30A (Laser Black, 64 GB)',\n",
       " 'realme Narzo 30A (Laser Blue, 32 GB)',\n",
       " 'realme Narzo 30A (Laser Blue, 64 GB)',\n",
       " 'realme Narzo 20 (Glory Silver, 128 GB)',\n",
       " 'realme Narzo 20 (Victory Blue, 128 GB)',\n",
       " 'realme 7i (Fusion Green, 64 GB)',\n",
       " 'realme 7 (Mist Blue, 128 GB)',\n",
       " 'realme 7 (Mist Blue, 64 GB)',\n",
       " 'realme C21 (Cross Blue, 32 GB)',\n",
       " 'realme C21 (Cross Black, 32 GB)',\n",
       " 'realme C21 (Cross Blue, 64 GB)',\n",
       " 'realme C21 (Cross Black, 64 GB)',\n",
       " 'realme 7i (Fusion Green, 128 GB)',\n",
       " 'realme 7i (Fusion Blue, 64 GB)',\n",
       " 'realme Narzo 20 Pro (Black Ninja, 64 GB)',\n",
       " 'realme 7 (Mist White, 128 GB)',\n",
       " 'realme Narzo 20A (Glory Silver, 64 GB)',\n",
       " 'realme C25 (Watery Grey, 128 GB)',\n",
       " 'realme C25 (Watery Blue, 128 GB)',\n",
       " 'realme C25 (Watery Grey, 64 GB)',\n",
       " 'realme Narzo 20 Pro (Black Ninja, 128 GB)',\n",
       " 'realme Narzo 30 Pro 5G (Sword Black, 64 GB)',\n",
       " 'realme Narzo 30 Pro 5G (Blade Silver, 64 GB)',\n",
       " 'realme 8 (Cyber Silver, 128 GB)',\n",
       " 'realme 8 (Cyber Silver, 128 GB)',\n",
       " 'realme 8 (Cyber Black, 128 GB)',\n",
       " 'realme 8 (Cyber Silver, 128 GB)',\n",
       " 'realme 8 (Cyber Black, 128 GB)',\n",
       " 'realme 8 Pro (Infinite Black, 128 GB)',\n",
       " 'realme 8 Pro (Infinite Blue, 128 GB)',\n",
       " 'realme 8 Pro (Infinite Blue, 128 GB)',\n",
       " 'realme 8 Pro (Infinite Black, 128 GB)']"
      ]
     },
     "execution_count": 75,
     "metadata": {},
     "output_type": "execute_result"
    }
   ],
   "source": [
    "#Now the text of the brand names is insid the tags extracted above.\n",
    "\n",
    "#so we will run a loop to iterate over the tags extracted above and extract the text inside them\n",
    "\n",
    "for i in phone_names:\n",
    "    brand=i.text\n",
    "    Smartphone_name.append(brand)\n",
    "Smartphone_name[0:39]"
   ]
  },
  {
   "cell_type": "markdown",
   "metadata": {},
   "source": [
    "Colour "
   ]
  },
  {
   "cell_type": "code",
   "execution_count": 25,
   "metadata": {
    "scrolled": true
   },
   "outputs": [
    {
     "data": {
      "text/plain": [
       "[<selenium.webdriver.remote.webelement.WebElement (session=\"bc8c40593f5246a7428d4f9ab4040dc2\", element=\"b863b54f-1002-4d40-9374-e9a2bc2116b2\")>,\n",
       " <selenium.webdriver.remote.webelement.WebElement (session=\"bc8c40593f5246a7428d4f9ab4040dc2\", element=\"d3a872fa-9465-4a66-9d92-f0730cac1edb\")>,\n",
       " <selenium.webdriver.remote.webelement.WebElement (session=\"bc8c40593f5246a7428d4f9ab4040dc2\", element=\"ad964735-b01c-4c2f-b86c-f1425dc0746f\")>,\n",
       " <selenium.webdriver.remote.webelement.WebElement (session=\"bc8c40593f5246a7428d4f9ab4040dc2\", element=\"5ec633dd-e8ae-49a0-b19f-322db6e891f3\")>,\n",
       " <selenium.webdriver.remote.webelement.WebElement (session=\"bc8c40593f5246a7428d4f9ab4040dc2\", element=\"5581c1be-1232-43cb-9e2a-18c3759393be\")>,\n",
       " <selenium.webdriver.remote.webelement.WebElement (session=\"bc8c40593f5246a7428d4f9ab4040dc2\", element=\"6d81b4ba-7dbd-41e0-ba4e-abdba5988cc0\")>,\n",
       " <selenium.webdriver.remote.webelement.WebElement (session=\"bc8c40593f5246a7428d4f9ab4040dc2\", element=\"f5afc3e7-602d-4126-b0f7-69b40e8c682c\")>,\n",
       " <selenium.webdriver.remote.webelement.WebElement (session=\"bc8c40593f5246a7428d4f9ab4040dc2\", element=\"4bec69e6-c3cd-4c2e-8e91-818be14051f5\")>,\n",
       " <selenium.webdriver.remote.webelement.WebElement (session=\"bc8c40593f5246a7428d4f9ab4040dc2\", element=\"fc83f35a-305c-40e6-a08c-f57224fc6ee9\")>,\n",
       " <selenium.webdriver.remote.webelement.WebElement (session=\"bc8c40593f5246a7428d4f9ab4040dc2\", element=\"c7fd6ae6-a8c5-4be3-8486-f1bd38607a1a\")>,\n",
       " <selenium.webdriver.remote.webelement.WebElement (session=\"bc8c40593f5246a7428d4f9ab4040dc2\", element=\"f5626b51-d9a8-45ce-860c-5619b68103b8\")>,\n",
       " <selenium.webdriver.remote.webelement.WebElement (session=\"bc8c40593f5246a7428d4f9ab4040dc2\", element=\"da4eba12-7bc0-4f90-9699-eafa169283d2\")>,\n",
       " <selenium.webdriver.remote.webelement.WebElement (session=\"bc8c40593f5246a7428d4f9ab4040dc2\", element=\"ed997ef7-5ce6-4da0-842a-d083f962f50e\")>,\n",
       " <selenium.webdriver.remote.webelement.WebElement (session=\"bc8c40593f5246a7428d4f9ab4040dc2\", element=\"7a019a39-02fc-4c10-a42b-b6ebffbb3ecf\")>,\n",
       " <selenium.webdriver.remote.webelement.WebElement (session=\"bc8c40593f5246a7428d4f9ab4040dc2\", element=\"ed01b477-f342-44be-83da-90146fcff0b7\")>,\n",
       " <selenium.webdriver.remote.webelement.WebElement (session=\"bc8c40593f5246a7428d4f9ab4040dc2\", element=\"fe92cb78-c233-4758-b686-249c97487176\")>,\n",
       " <selenium.webdriver.remote.webelement.WebElement (session=\"bc8c40593f5246a7428d4f9ab4040dc2\", element=\"df9a5c2e-850d-43e9-a2ba-335595c56a75\")>,\n",
       " <selenium.webdriver.remote.webelement.WebElement (session=\"bc8c40593f5246a7428d4f9ab4040dc2\", element=\"e1ee701d-1281-4019-9783-1ee2e6af230a\")>,\n",
       " <selenium.webdriver.remote.webelement.WebElement (session=\"bc8c40593f5246a7428d4f9ab4040dc2\", element=\"197b4576-fb63-42a0-8587-ba58d7212cdc\")>,\n",
       " <selenium.webdriver.remote.webelement.WebElement (session=\"bc8c40593f5246a7428d4f9ab4040dc2\", element=\"f000deb4-664c-402b-95f8-b951dc5736bf\")>,\n",
       " <selenium.webdriver.remote.webelement.WebElement (session=\"bc8c40593f5246a7428d4f9ab4040dc2\", element=\"38e9c3d0-7b25-4daa-a132-febe0ceec30f\")>,\n",
       " <selenium.webdriver.remote.webelement.WebElement (session=\"bc8c40593f5246a7428d4f9ab4040dc2\", element=\"23e72d83-dac7-4935-aa31-99296c107cce\")>,\n",
       " <selenium.webdriver.remote.webelement.WebElement (session=\"bc8c40593f5246a7428d4f9ab4040dc2\", element=\"5e6373e9-64b6-4a53-8d3e-66bb8e7f9d6a\")>,\n",
       " <selenium.webdriver.remote.webelement.WebElement (session=\"bc8c40593f5246a7428d4f9ab4040dc2\", element=\"d6f4dc26-d9ce-4251-8c14-df0e05131897\")>,\n",
       " <selenium.webdriver.remote.webelement.WebElement (session=\"bc8c40593f5246a7428d4f9ab4040dc2\", element=\"0388ef91-287f-4591-9bb4-7b6a986f5c06\")>,\n",
       " <selenium.webdriver.remote.webelement.WebElement (session=\"bc8c40593f5246a7428d4f9ab4040dc2\", element=\"17f3a3d9-ebca-4ede-8894-c60ad2efec29\")>,\n",
       " <selenium.webdriver.remote.webelement.WebElement (session=\"bc8c40593f5246a7428d4f9ab4040dc2\", element=\"8dbe5ec3-fe37-46d3-a59b-cad9805eebfe\")>,\n",
       " <selenium.webdriver.remote.webelement.WebElement (session=\"bc8c40593f5246a7428d4f9ab4040dc2\", element=\"fc142c76-b53b-423b-960c-b190d3d68cc9\")>,\n",
       " <selenium.webdriver.remote.webelement.WebElement (session=\"bc8c40593f5246a7428d4f9ab4040dc2\", element=\"8e0efda3-71bc-49b0-ae3c-a49425f9f47b\")>,\n",
       " <selenium.webdriver.remote.webelement.WebElement (session=\"bc8c40593f5246a7428d4f9ab4040dc2\", element=\"71bf7145-325c-4297-afe0-2e8af7b1c8aa\")>,\n",
       " <selenium.webdriver.remote.webelement.WebElement (session=\"bc8c40593f5246a7428d4f9ab4040dc2\", element=\"4f7e4c14-f0ef-43d1-88b7-1ec88c2bea01\")>,\n",
       " <selenium.webdriver.remote.webelement.WebElement (session=\"bc8c40593f5246a7428d4f9ab4040dc2\", element=\"66d3e9a4-e406-4b85-b20c-45f746a78ee1\")>,\n",
       " <selenium.webdriver.remote.webelement.WebElement (session=\"bc8c40593f5246a7428d4f9ab4040dc2\", element=\"7575f6a8-0d6c-48d7-8a35-b80bdbfe4686\")>,\n",
       " <selenium.webdriver.remote.webelement.WebElement (session=\"bc8c40593f5246a7428d4f9ab4040dc2\", element=\"bde2378d-bd19-4589-a423-b7d6c7bb3a57\")>,\n",
       " <selenium.webdriver.remote.webelement.WebElement (session=\"bc8c40593f5246a7428d4f9ab4040dc2\", element=\"ecda0021-9ef7-4008-aa11-2a24247fa5e2\")>,\n",
       " <selenium.webdriver.remote.webelement.WebElement (session=\"bc8c40593f5246a7428d4f9ab4040dc2\", element=\"ff2e1dcd-281a-4fa2-b22f-4c510194c41f\")>,\n",
       " <selenium.webdriver.remote.webelement.WebElement (session=\"bc8c40593f5246a7428d4f9ab4040dc2\", element=\"5b7baed8-6e7c-41d5-9fa9-f6073eb954fa\")>,\n",
       " <selenium.webdriver.remote.webelement.WebElement (session=\"bc8c40593f5246a7428d4f9ab4040dc2\", element=\"a6d0706e-e670-4bed-8a39-44ae6aa89b61\")>,\n",
       " <selenium.webdriver.remote.webelement.WebElement (session=\"bc8c40593f5246a7428d4f9ab4040dc2\", element=\"41d6c717-1114-4c13-b71c-a0c6fabafc62\")>]"
      ]
     },
     "execution_count": 25,
     "metadata": {},
     "output_type": "execute_result"
    }
   ],
   "source": [
    "#so lets extract all the tags having the color\n",
    "color=driver.find_elements_by_xpath(\"//div[@class='_1AtVbE col-12-12']\")\n",
    "color[0:39]"
   ]
  },
  {
   "cell_type": "code",
   "execution_count": 26,
   "metadata": {},
   "outputs": [
    {
     "data": {
      "text/plain": [
       "['Filters\\nPICK A CATEGORY\\nAutomotive Accessories\\nBooks\\nMobiles & Accessories\\nComputers\\nCameras & Accessories\\nShow 12 more categories',\n",
       " 'Add to Compare\\nrealme C20 (Cool Grey, 32 GB)\\n4.55,447 Ratings & 204 Reviews\\n2 GB RAM | 32 GB ROM | Expandable Upto 256 GB\\n16.51 cm (6.5 inch) HD+ Display\\n8MP Rear Camera | 5MP Front Camera\\n5000 mAh Battery\\nMediaTek Helio G35 Processor\\n1 Year Warranty for Mobile and 6 Months for Accessories\\n₹6,799\\n₹7,99915% off',\n",
       " 'Bestseller\\nAdd to Compare\\nrealme C20 (Cool Blue, 32 GB)\\n4.55,447 Ratings & 204 Reviews\\n2 GB RAM | 32 GB ROM | Expandable Upto 256 GB\\n16.51 cm (6.5 inch) HD+ Display\\n8MP Rear Camera | 5MP Front Camera\\n5000 mAh Battery\\nMediaTek Helio G35 Processor\\n1 Year Warranty for Mobile and 6 Months for Accessories\\n₹6,799\\n₹7,99915% off',\n",
       " 'Add to Compare\\nrealme C12 (Power Silver, 32 GB)\\n4.42,60,712 Ratings & 15,997 Reviews\\n3 GB RAM | 32 GB ROM | Expandable Upto 256 GB\\n16.56 cm (6.52 inch) HD+ Display\\n13MP + 2MP + 2MP | 5MP Front Camera\\n6000 mAh Lithium-ion Battery\\nMediatek Helio G35 Processor\\nBrand Warranty of 1 Year Available for Mobile and 6 Months for Accessories\\n₹7,999\\n₹10,99927% off',\n",
       " 'Add to Compare\\nrealme C12 (Power Blue, 32 GB)\\n4.42,60,712 Ratings & 15,997 Reviews\\n3 GB RAM | 32 GB ROM | Expandable Upto 256 GB\\n16.56 cm (6.52 inch) HD+ Display\\n13MP + 2MP + 2MP | 5MP Front Camera\\n6000 mAh Lithium-ion Battery\\nMediatek Helio G35 Processor\\nBrand Warranty of 1 Year Available for Mobile and 6 Months for Accessories\\n₹7,999\\n₹10,99927% off',\n",
       " 'Add to Compare\\nrealme Narzo 20 (Glory Silver, 64 GB)\\n4.33,87,782 Ratings & 30,307 Reviews\\n4 GB RAM | 64 GB ROM | Expandable Upto 256 GB\\n16.56 cm (6.52 inch) HD+ Display\\n48MP + 8MP + 2MP | 8MP Front Camera\\n6000 mAh Lithium-ion Battery\\nMediaTek Helio G85 Processor\\nBrand Warranty of 1 Year Available for Mobile and 6 Months for Accessories\\n₹10,499\\n₹12,99919% off',\n",
       " 'Add to Compare\\nrealme Narzo 20 (Victory Blue, 64 GB)\\n4.33,87,782 Ratings & 30,307 Reviews\\n4 GB RAM | 64 GB ROM | Expandable Upto 256 GB\\n16.56 cm (6.52 inch) HD+ Display\\n48MP + 8MP + 2MP | 8MP Front Camera\\n6000 mAh Lithium-ion Battery\\nMediaTek Helio G85 Processor\\nBrand Warranty of 1 Year Available for Mobile and 6 Months for Accessories\\n₹10,499\\n₹12,99919% off',\n",
       " 'Add to Compare\\nrealme Narzo 30A (Laser Black, 32 GB)\\n4.414,612 Ratings & 940 Reviews\\n3 GB RAM | 32 GB ROM | Expandable Upto 256 GB\\n16.54 cm (6.51 inch) HD+ Display\\n13MP + 2MP | 8MP Front Camera\\n6000 mAh Battery\\nMediaTek Helio G85 Processor\\n1 Year Warranty for Mobile and 6 Months for Accessories\\n₹8,499\\n₹9,99915% off',\n",
       " 'Add to Compare\\nrealme Narzo 30A (Laser Black, 64 GB)\\n4.420,412 Ratings & 1,287 Reviews\\n4 GB RAM | 64 GB ROM | Expandable Upto 256 GB\\n16.54 cm (6.51 inch) HD+ Display\\n13MP + 2MP | 8MP Front Camera\\n6000 mAh Battery\\nMediaTek Helio G85 Processor\\n1 Year Warranty for Mobile and 6 Months for Accessories\\n₹9,499\\n₹10,99913% off',\n",
       " 'Add to Compare\\nrealme Narzo 20 (Glory Silver, 128 GB)\\n4.33,87,782 Ratings & 30,307 Reviews\\n4 GB RAM | 128 GB ROM | Expandable Upto 256 GB\\n16.56 cm (6.52 inch) HD+ Display\\n48MP + 8MP + 2MP | 8MP Front Camera\\n6000 mAh Lithium-ion Battery\\nMediaTek Helio G85 Processor\\nBrand Warranty of 1 Year Available for Mobile and 6 Months for Accessories\\n₹11,499\\n₹13,99917% off',\n",
       " 'Add to Compare\\nrealme Narzo 30A (Laser Blue, 32 GB)\\n4.414,612 Ratings & 940 Reviews\\n3 GB RAM | 32 GB ROM | Expandable Upto 256 GB\\n16.54 cm (6.51 inch) HD+ Display\\n13MP + 2MP | 8MP Front Camera\\n6000 mAh Battery\\nMediaTek Helio G85 Processor\\n1 Year Warranty for Mobile and 6 Months for Accessories\\n₹8,499\\n₹9,99915% off',\n",
       " 'Add to Compare\\nrealme Narzo 30A (Laser Blue, 64 GB)\\n4.420,412 Ratings & 1,287 Reviews\\n4 GB RAM | 64 GB ROM | Expandable Upto 256 GB\\n16.54 cm (6.51 inch) HD+ Display\\n13MP + 2MP | 8MP Front Camera\\n6000 mAh Battery\\nMediaTek Helio G85 Processor\\n1 Year Warranty for Mobile and 6 Months for Accessories\\n₹9,499\\n₹10,99913% off',\n",
       " 'Add to Compare\\nrealme Narzo 20 (Victory Blue, 128 GB)\\n4.33,87,782 Ratings & 30,307 Reviews\\n4 GB RAM | 128 GB ROM | Expandable Upto 256 GB\\n16.56 cm (6.52 inch) HD+ Display\\n48MP + 8MP + 2MP | 8MP Front Camera\\n6000 mAh Lithium-ion Battery\\nMediaTek Helio G85 Processor\\nBrand Warranty of 1 Year Available for Mobile and 6 Months for Accessories\\n₹11,499\\n₹13,99917% off',\n",
       " 'Add to Compare\\nrealme 7i (Fusion Green, 64 GB)\\n4.32,64,945 Ratings & 19,509 Reviews\\n4 GB RAM | 64 GB ROM | Expandable Upto 256 GB\\n16.51 cm (6.5 inch) HD+ Display\\n64MP + 8MP + 2MP + 2MP | 16MP Front Camera\\n5000 mAh Lithium-ion Battery\\nQualcomm Snapdragon 662 Processor\\n90 Hz Ultra Smooth Display\\n18W Quick Charge\\nBrand Warranty of 1 Year Available for Mobile and 6 Months for Accessories\\n₹11,999\\n₹13,99914% off',\n",
       " 'Add to Compare\\nrealme 7 (Mist Blue, 128 GB)\\n4.374,614 Ratings & 7,307 Reviews\\n8 GB RAM | 128 GB ROM | Expandable Upto 256 GB\\n16.51 cm (6.5 inch) Full HD+ Display\\n64MP + 8MP + 2MP + 2MP | 16MP Front Camera\\n5000 mAh Lithium-ion Battery\\nMediaTek Helio G95 Processor\\nBrand Warranty of 1 Year Available for Mobile and 6 Months for Accessories\\n₹15,499\\n₹20,99926% off',\n",
       " 'Add to Compare\\nrealme 7 (Mist Blue, 64 GB)\\n4.32,33,822 Ratings & 22,995 Reviews\\n6 GB RAM | 64 GB ROM | Expandable Upto 256 GB\\n16.51 cm (6.5 inch) Full HD+ Display\\n64MP + 8MP + 2MP + 2MP | 16MP Front Camera\\n5000 mAh Lithium-ion Battery\\nMediaTek Helio G95 Processor\\nBrand Warranty of 1 Year Available for Mobile and 6 Months for Accessories\\n₹13,499\\n₹17,99925% off',\n",
       " 'Add to Compare\\nrealme C21 (Cross Black, 64 GB)\\n4.41,907 Ratings & 101 Reviews\\n4 GB RAM | 64 GB ROM | Expandable Upto 256 GB\\n16.51 cm (6.5 inch) HD+ Display\\n13MP + 2MP + 2MP | 5MP Front Camera\\n5000 mAh Battery\\nMediaTek Helio G35 Processor\\n1 Year Warranty for Mobile and 6 Months for Accessories\\n₹8,999\\n₹10,99918% off',\n",
       " 'Add to Compare\\nrealme C21 (Cross Blue, 32 GB)\\n4.41,149 Ratings & 64 Reviews\\n3 GB RAM | 32 GB ROM | Expandable Upto 256 GB\\n16.51 cm (6.5 inch) HD+ Display\\n13MP + 2MP + 2MP | 5MP Front Camera\\n5000 mAh Battery\\nMediaTek Helio G35 Processor\\n1 Year Warranty for Mobile and 6 Months for Accessories\\n₹7,999\\n₹9,99920% off',\n",
       " 'Add to Compare\\nrealme C21 (Cross Blue, 64 GB)\\n4.41,907 Ratings & 101 Reviews\\n4 GB RAM | 64 GB ROM | Expandable Upto 256 GB\\n16.51 cm (6.5 inch) HD+ Display\\n13MP + 2MP + 2MP | 5MP Front Camera\\n5000 mAh Battery\\nMediaTek Helio G35 Processor\\n1 Year Warranty for Mobile and 6 Months for Accessories\\n₹8,999\\n₹10,99918% off',\n",
       " 'Add to Compare\\nrealme 7i (Fusion Green, 128 GB)\\n4.32,64,945 Ratings & 19,509 Reviews\\n4 GB RAM | 128 GB ROM | Expandable Upto 256 GB\\n16.51 cm (6.5 inch) HD+ Display\\n64MP + 8MP + 2MP + 2MP | 16MP Front Camera\\n5000 mAh Lithium-ion Battery\\nQualcomm Snapdragon 662 Processor\\n90 Hz Ultra Smooth Display\\n18W Quick Charge\\nBrand Warranty of 1 Year Available for Mobile and 6 Months for Accessories\\n₹12,999\\n₹14,99913% off',\n",
       " 'Add to Compare\\nrealme 7i (Fusion Blue, 64 GB)\\n4.32,64,945 Ratings & 19,509 Reviews\\n4 GB RAM | 64 GB ROM | Expandable Upto 256 GB\\n16.51 cm (6.5 inch) HD+ Display\\n64MP + 8MP + 2MP + 2MP | 16MP Front Camera\\n5000 mAh Lithium-ion Battery\\nQualcomm Snapdragon 662 Processor\\n90 Hz Ultra Smooth Display\\n18W Quick Charge\\nBrand Warranty of 1 Year Available for Mobile and 6 Months for Accessories\\n₹11,999\\n₹13,99914% off',\n",
       " 'Add to Compare\\nrealme Narzo 20 Pro (Black Ninja, 64 GB)\\n4.386,559 Ratings & 6,849 Reviews\\n6 GB RAM | 64 GB ROM | Expandable Upto 256 GB\\n16.51 cm (6.5 inch) Full HD+ Display\\n48MP + 8MP + 2MP + 2MP | 16MP Front Camera\\n4500 mAh Lithium-ion Battery\\nMediaTek Helio G95 Processor\\n65W Super Dart Charger\\nBrand Warranty of 1 Year Available for Mobile and 6 Months for Accessories\\n₹12,999\\n₹16,99923% off',\n",
       " 'Add to Compare\\nrealme 7 (Mist White, 128 GB)\\n4.374,614 Ratings & 7,307 Reviews\\n8 GB RAM | 128 GB ROM | Expandable Upto 256 GB\\n16.51 cm (6.5 inch) Full HD+ Display\\n64MP + 8MP + 2MP + 2MP | 16MP Front Camera\\n5000 mAh Lithium-ion Battery\\nMediaTek Helio G95 Processor\\nBrand Warranty of 1 Year Available for Mobile and 6 Months for Accessories\\n₹15,499\\n₹20,99926% off',\n",
       " 'Add to Compare\\nrealme C21 (Cross Black, 32 GB)\\n4.41,149 Ratings & 64 Reviews\\n3 GB RAM | 32 GB ROM | Expandable Upto 256 GB\\n16.51 cm (6.5 inch) HD+ Display\\n13MP + 2MP + 2MP | 5MP Front Camera\\n5000 mAh Battery\\nMediaTek Helio G35 Processor\\n1 Year Warranty for Mobile and 6 Months for Accessories\\n₹7,999\\n₹9,99920% off',\n",
       " 'Add to Compare\\nrealme Narzo 20A (Glory Silver, 64 GB)\\n4.41,83,812 Ratings & 11,502 Reviews\\n4 GB RAM | 64 GB ROM | Expandable Upto 256 GB\\n16.51 cm (6.5 inch) HD+ Display\\n12MP + 2MP + 2MP | 8MP Front Camera\\n5000 mAh Lithium-ion Battery\\nQualcomm Snapdragon 665 Processor\\nBrand Warranty of 1 Year Available for Mobile and 6 Months for Accessories\\n₹9,499\\n₹11,99920% off',\n",
       " 'Add to Compare\\nrealme C25 (Watery Grey, 128 GB)\\n4.51,462 Ratings & 63 Reviews\\n4 GB RAM | 128 GB ROM | Expandable Upto 256 GB\\n16.51 cm (6.5 inch) HD+ Display\\n13MP + 2MP + 2MP | 8MP Front Camera\\n6000 mAh Battery\\nMediaTek Helio G70 Processor\\n1 Year Warranty for Mobile and 6 Months for Accessories\\n₹10,999\\n₹11,9998% off',\n",
       " 'Add to Compare\\nrealme C25 (Watery Blue, 128 GB)\\n4.51,462 Ratings & 63 Reviews\\n4 GB RAM | 128 GB ROM | Expandable Upto 256 GB\\n16.51 cm (6.5 inch) HD+ Display\\n13MP + 2MP + 2MP | 8MP Front Camera\\n6000 mAh Battery\\nMediaTek Helio G70 Processor\\n1 Year Warranty for Mobile and 6 Months for Accessories\\n₹10,999\\n₹11,9998% off',\n",
       " 'Add to Compare\\nrealme C25 (Watery Grey, 64 GB)\\n4.51,462 Ratings & 63 Reviews\\n4 GB RAM | 64 GB ROM | Expandable Upto 256 GB\\n16.51 cm (6.5 inch) HD+ Display\\n13MP + 2MP + 2MP | 8MP Front Camera\\n6000 mAh Battery\\nMediaTek Helio G70 Processor\\n1 Year Warranty for Mobile and 6 Months for Accessories\\n₹9,999\\n₹10,9999% off',\n",
       " 'Add to Compare\\nrealme Narzo 20 Pro (Black Ninja, 128 GB)\\n4.345,284 Ratings & 3,739 Reviews\\n8 GB RAM | 128 GB ROM | Expandable Upto 256 GB\\n16.51 cm (6.5 inch) Full HD+ Display\\n48MP + 8MP + 2MP + 2MP | 16MP Front Camera\\n4500 mAh Lithium-ion Battery\\nMediaTek Helio G95 Processor\\n65W Super Dart Charger\\nBrand Warranty of 1 Year Available for Mobile and 6 Months for Accessories\\n₹16,999\\n₹18,99910% off',\n",
       " 'Add to Compare\\nrealme Narzo 30 Pro 5G (Sword Black, 64 GB)\\n4.410,035 Ratings & 870 Reviews\\n6 GB RAM | 64 GB ROM | Expandable Upto 256 GB\\n16.51 cm (6.5 inch) Full HD+ Display\\n48MP + 8MP + 2MP | 16MP Front Camera\\n5000 mAh Battery\\nMediaTek Dimensity 800U Processor\\n1 Year Warranty for Mobile and 6 Months for Accessories\\n₹16,999\\n₹18,99910% off',\n",
       " 'Add to Compare\\nrealme Narzo 30 Pro 5G (Blade Silver, 64 GB)\\n4.410,035 Ratings & 870 Reviews\\n6 GB RAM | 64 GB ROM | Expandable Upto 256 GB\\n16.51 cm (6.5 inch) Full HD+ Display\\n48MP + 8MP + 2MP | 16MP Front Camera\\n5000 mAh Battery\\nMediaTek Dimensity 800U Processor\\n1 Year Warranty for Mobile and 6 Months for Accessories\\n₹16,999\\n₹18,99910% off',\n",
       " 'Add to Compare\\nrealme 8 (Cyber Black, 128 GB)\\n4.37,072 Ratings & 723 Reviews\\n4 GB RAM | 128 GB ROM | Expandable Upto 256 GB\\n16.26 cm (6.4 inch) Full HD+ Display\\n64MP + 8MP + 2MP + 2MP | 16MP Front Camera\\n5000 mAh Battery\\nMediaTek Helio G95 Processor\\nSuper AMOLED Display\\n1 Year Warranty for Mobile and 6 Months for Accessories\\n₹14,999\\n₹16,99911% off',\n",
       " 'Add to Compare\\nrealme 8 (Cyber Black, 128 GB)\\n4.32,760 Ratings & 286 Reviews\\n8 GB RAM | 128 GB ROM | Expandable Upto 256 GB\\n16.26 cm (6.4 inch) Full HD+ Display\\n64MP + 8MP + 2MP + 2MP | 16MP Front Camera\\n5000 mAh Battery\\nMediaTek Helio G95 Processor\\nSuper AMOLED Display\\n1 Year Warranty for Mobile and 6 Months for Accessories\\n₹16,999\\n₹18,99910% off',\n",
       " 'Add to Compare\\nrealme 8 (Cyber Silver, 128 GB)\\n4.32,760 Ratings & 286 Reviews\\n8 GB RAM | 128 GB ROM | Expandable Upto 256 GB\\n16.26 cm (6.4 inch) Full HD+ Display\\n64MP + 8MP + 2MP + 2MP | 16MP Front Camera\\n5000 mAh Battery\\nMediaTek Helio G95 Processor\\nSuper AMOLED Display\\n1 Year Warranty for Mobile and 6 Months for Accessories\\n₹16,999\\n₹18,99910% off',\n",
       " 'Add to Compare\\nrealme 8 (Cyber Silver, 128 GB)\\n4.37,072 Ratings & 723 Reviews\\n4 GB RAM | 128 GB ROM | Expandable Upto 256 GB\\n16.26 cm (6.4 inch) Full HD+ Display\\n64MP + 8MP + 2MP + 2MP | 16MP Front Camera\\n5000 mAh Battery\\nMediaTek Helio G95 Processor\\nSuper AMOLED Display\\n1 Year Warranty for Mobile and 6 Months for Accessories\\n₹14,999\\n₹16,99911% off',\n",
       " 'Add to Compare\\nrealme 8 (Cyber Silver, 128 GB)\\n4.5346 Ratings & 34 Reviews\\n6 GB RAM | 128 GB ROM | Expandable Upto 256 GB\\n16.26 cm (6.4 inch) Full HD+ Display\\n64MP + 8MP + 2MP + 2MP | 16MP Front Camera\\n5000 mAh Battery\\nMediaTek Helio G95 Processor\\nSuper AMOLED Display\\n1 Year Warranty for Mobile and 6 Months for Accessories\\n₹15,999\\n₹17,99911% off',\n",
       " 'Add to Compare\\nrealme 8 Pro (Infinite Black, 128 GB)\\n4.32,947 Ratings & 289 Reviews\\n8 GB RAM | 128 GB ROM | Expandable Upto 256 GB\\n16.26 cm (6.4 inch) Full HD+ Display\\n108MP + 8MP + 2MP + 2MP | 16MP Front Camera\\n4500 mAh Battery\\nQualcomm Snapdragon 720G Processor\\nSuper AMOLED Display\\n1 Year Warranty for Mobile and 6 Months for Accessories\\n₹19,999\\n₹21,9999% off',\n",
       " 'Add to Compare\\nrealme 8 Pro (Infinite Blue, 128 GB)\\n4.32,947 Ratings & 289 Reviews\\n8 GB RAM | 128 GB ROM | Expandable Upto 256 GB\\n16.26 cm (6.4 inch) Full HD+ Display\\n108MP + 8MP + 2MP + 2MP | 16MP Front Camera\\n4500 mAh Battery\\nQualcomm Snapdragon 720G Processor\\nSuper AMOLED Display\\n1 Year Warranty for Mobile and 6 Months for Accessories\\n₹19,999\\n₹21,9999% off',\n",
       " 'Add to Compare\\nrealme 8 Pro (Infinite Blue, 128 GB)\\n4.39,345 Ratings & 955 Reviews\\n6 GB RAM | 128 GB ROM | Expandable Upto 256 GB\\n16.26 cm (6.4 inch) Full HD+ Display\\n108MP + 8MP + 2MP + 2MP | 16MP Front Camera\\n4500 mAh Battery\\nQualcomm Snapdragon 720G Processor\\nSuper AMOLED Display\\n1 Year Warranty for Mobile and 6 Months for Accessories\\n₹17,999\\n₹19,99910% off']"
      ]
     },
     "execution_count": 26,
     "metadata": {},
     "output_type": "execute_result"
    }
   ],
   "source": [
    "#Now the text of the color is insid the tags extracted above.\n",
    "\n",
    "#so we will run a loop to iterate over the tags extracted above and extract the text inside them\n",
    "\n",
    "for i in color:\n",
    "    clr=i.text\n",
    "    Colour.append(clr)\n",
    "Colour[0:39]"
   ]
  },
  {
   "cell_type": "markdown",
   "metadata": {},
   "source": [
    "RAM "
   ]
  },
  {
   "cell_type": "code",
   "execution_count": 28,
   "metadata": {},
   "outputs": [
    {
     "data": {
      "text/plain": [
       "[]"
      ]
     },
     "execution_count": 28,
     "metadata": {},
     "output_type": "execute_result"
    }
   ],
   "source": [
    "#so lets extract all the tags having the RAM\n",
    "ram=driver.find_elements_by_xpath(\"//div[@class='_2418kt']/li\")\n",
    "ram[0:39]"
   ]
  },
  {
   "cell_type": "markdown",
   "metadata": {},
   "source": [
    "# Q 5:"
   ]
  },
  {
   "cell_type": "code",
   "execution_count": 4,
   "metadata": {},
   "outputs": [],
   "source": [
    "driver.get('https://www.googlemaps.com/')"
   ]
  },
  {
   "cell_type": "code",
   "execution_count": 5,
   "metadata": {},
   "outputs": [],
   "source": [
    "#finding element for search bar\n",
    "search_city= driver.find_element_by_id('searchboxinput')\n",
    "search_city.send_keys(\"Ahmedabad\")"
   ]
  },
  {
   "cell_type": "code",
   "execution_count": 6,
   "metadata": {},
   "outputs": [],
   "source": [
    "search_btn=driver.find_element_by_xpath(\"//button[@class='searchbox-searchbutton']\")\n",
    "search_btn.click()"
   ]
  },
  {
   "cell_type": "markdown",
   "metadata": {},
   "source": [
    "# Q 6:"
   ]
  },
  {
   "cell_type": "code",
   "execution_count": 6,
   "metadata": {},
   "outputs": [],
   "source": [
    "driver.get('https://www.trak.in/')"
   ]
  },
  {
   "cell_type": "code",
   "execution_count": 10,
   "metadata": {},
   "outputs": [],
   "source": [
    "url=\"https://trak.in/india-startup-funding-investment-2015/\""
   ]
  },
  {
   "cell_type": "code",
   "execution_count": 11,
   "metadata": {},
   "outputs": [],
   "source": [
    "driver.get(url)"
   ]
  },
  {
   "cell_type": "code",
   "execution_count": 15,
   "metadata": {},
   "outputs": [],
   "source": [
    "July_20=[]\n",
    "August_20=[]\n",
    "September_20=[]"
   ]
  },
  {
   "cell_type": "code",
   "execution_count": 13,
   "metadata": {},
   "outputs": [
    {
     "data": {
      "text/plain": [
       "[<selenium.webdriver.remote.webelement.WebElement (session=\"80f2691b371221f6e9f4313c334d3b07\", element=\"5a9875c7-a261-435d-b819-32243991ae72\")>,\n",
       " <selenium.webdriver.remote.webelement.WebElement (session=\"80f2691b371221f6e9f4313c334d3b07\", element=\"2d2b6579-096c-4cc7-a1d3-f515c6a699a6\")>,\n",
       " <selenium.webdriver.remote.webelement.WebElement (session=\"80f2691b371221f6e9f4313c334d3b07\", element=\"016bde26-d0cb-48c9-861e-bf15aef3522a\")>,\n",
       " <selenium.webdriver.remote.webelement.WebElement (session=\"80f2691b371221f6e9f4313c334d3b07\", element=\"1b7d44d7-182f-4348-8e37-8779fb1c55b9\")>,\n",
       " <selenium.webdriver.remote.webelement.WebElement (session=\"80f2691b371221f6e9f4313c334d3b07\", element=\"7b261a95-4402-4741-8e83-cc73cdcd2fff\")>,\n",
       " <selenium.webdriver.remote.webelement.WebElement (session=\"80f2691b371221f6e9f4313c334d3b07\", element=\"71063d45-f140-45cd-82e2-e6e251504408\")>,\n",
       " <selenium.webdriver.remote.webelement.WebElement (session=\"80f2691b371221f6e9f4313c334d3b07\", element=\"cc169f4d-fd6b-49b5-b0f1-aab138b60855\")>,\n",
       " <selenium.webdriver.remote.webelement.WebElement (session=\"80f2691b371221f6e9f4313c334d3b07\", element=\"0c612386-a820-433a-8d06-0c121920b710\")>,\n",
       " <selenium.webdriver.remote.webelement.WebElement (session=\"80f2691b371221f6e9f4313c334d3b07\", element=\"fcc2aacf-00bc-4cb7-9c44-e8b2442ef6db\")>,\n",
       " <selenium.webdriver.remote.webelement.WebElement (session=\"80f2691b371221f6e9f4313c334d3b07\", element=\"edcca3c8-7a4a-498e-93e7-b8c57e11e0c0\")>]"
      ]
     },
     "execution_count": 13,
     "metadata": {},
     "output_type": "execute_result"
    }
   ],
   "source": [
    "#so lets extract all the tags having the july entries\n",
    "july_20=driver.find_elements_by_xpath(\"//div[@class='dataTables_scroll']\")\n",
    "july_20[0:10]"
   ]
  },
  {
   "cell_type": "code",
   "execution_count": 16,
   "metadata": {},
   "outputs": [
    {
     "data": {
      "text/plain": [
       "[\"Sr. No. Date (dd/mm/yyyy) Startup Name Industry / Vertical Sub-Vertical City / Location Investors' Name Investment Type Amount (In USD)\\n1 01/04/2021 BYJU’S Edu-tech Online tutoring Bengaluru Innoven Capital Series F 460,000,000\\n2 05/04/2021 Meesho E-commerce Online reselling platform Bengaluru SoftBank Vision Fund 2 Series E 300,000,000\\n3 14/04/2021 Swiggy Online Food Delivery Online Food Delivery Bengaluru Amansa Holdings, Carmignac, Falcon Edge Capital, Goldman Sachs, Think Investments Series J 343,000,000\\n4 07/04/2021 Groww FinTech Investment platform Bengaluru MC Global Edtech, B Capital, Baron, others Series D 83,000,000\\n5 14/04/2021 Beldara E-commerce Global B2B marketplace Mumbai Hindustan Media Ventures Venture 7,400,000\",\n",
       " \"Sr. No. Date (dd/mm/yyyy) Startup Name Industry / Vertical Sub-Vertical City / Location Investors' Name Investment Type Amount (In USD)\\n1 04/03/2021 DealShare E-commerce Online shopping platform Jaipur, Rajasthan Innoven Capital Debt Financing 250,000,000\\n2 31/03/2021 Uniphore Technology Conversational Service Automation (CSA) Palo Alto Sorenson Capital Partners Series D 140,000,000\\n3 30/03/2021 Dunzo E-commerce Hyper-local delivery app Bengaluru Krishtal Advisors Pte Ltd Series E 8,000,000\\n4 30/03/2021 BYJU’S Edu-tech Online tutoring Bengaluru MC Global Edtech, B Capital, Baron, others Series F 460,000,000\\n5 23/03/2021 SkilloVilla Edu-tech Career and job-oriented upskilling. Bengaluru Titan Capital, others Seed 300,000,000\\n6 25/03/2021 CityMall E-commerce Social ecommerce and online grocery platform Gurgaon Accel Partners Series A 11,000,000\\n7 26/03/2021 DotPe FinTech Commerce and payments platform to offline enterprise businesses. Gurgaon PayU Series A 27,500,000\",\n",
       " \"Sr. No. Date (dd/mm/yyyy) Startup Name Industry / Vertical Sub-Vertical City / Location Investors' Name Investment Type Amount (In USD)\\n1 11/02/2021 Doubtnut Edu Tech E-Learning Platform Gurgaon SIG Global, Sequoia Capital, WaterBridge Ventures and ON Mauritius Series B 2,500,000\\n2 22/02/2021 Zomato Hospitality Online Food Delivery Platform Gurgaon Tiger Global, Kora Venture 250,000,000\\n3 19/02/2021 Fingerlix Hospitality Semi-cooked food delivery app Mumbai Rhodium Trust, Accel Partners and Swiggy Series C 2,747,045.20\\n4 17/02/2021 Zolve FinTech Global Neobank Venture Mumbai Accel Partners and Lightspeed Venture Partners Seed 1,50,00,000\\n5 15/02/2021 KreditBee Finance Digital lending platform Bengaluru Azim Premji’s PremjiInvest and South Korea’s Mirae Asset Venture Series C 75,000,000\\n6 12/02/2021 Pepperfry E-commerce Multi-brand furniture brand Mumbai InnoVen Capital Debt Financing 4,773,958\\n7 12/02/2021 Grofers E-Commerce Online supermarket Gurgaon SoftBank Vision Fund (SVF) Unspecified 55,000,000\\n8 09/02/2021 Nothing Technology Consumer Technology Venture London GV Series A 15,000,000\\n9 09/02/2021 SplashLearn EdTech Game-based learning programme Gurgaon Owl Ventures Series C 18,000,000\",\n",
       " \"Sr. No. Date (dd/mm/yyyy) Startup Name Industry / Vertical Sub-Vertical City / Location Investors' Name Investment Type Amount (In USD)\\n1 15/01/2021 Digit Insurance Financial Services Insurance Services Bengaluru A91 Partners, Faering Capital, TVS Capital Funds Venture 1,80,00,000\\n2 28/01/2021 Bombay Shaving Company Consumer Goods Company Shave care, beard care, and skincare products New Delhi Reckitt Benckiser Venture 6,172,258.50\\n3 19/01/2021 DeHaat AgriTech Startup online marketplace for farm products and services Patna Prosus Ventures Series C 30,000,000\\n4 19/01/2021 Darwinbox SaaS HR Tech Mumbai Salesforce Ventures Seed 15,000,000\\n5 18/01/2021 mfine Health Tech Startup AI-powered telemedicine mobile app Bengaluru Heritas Capital Management Venture Round 16,000,000\\n6 18/01/2021 Udayy EdTech Online learning platform for kids in class 1-5 Gurgaon Sequoia Capital Seed Funding 15,000,000\\n7 11/01/2021 True Elements Food Startup Whole Food plant based Nashta Pune SIDBI Venture Capital Series 100,000,000\\n8 13/01/2021 Saveo B2B E-commerce Pharmacies Bengaluru Matrix Partners India, RTP Global, others Seed 4,000,000\",\n",
       " \"Sr. No. Date (dd/mm/yyyy) Startup Name Industry / Vertical Sub-Vertical City / Location Investors' Name Investment Type Amount (In USD)\\n1 15/12/2020 Bira 91 Food and Beverage Craft Beer New Delhi Nishant Mittal, Pankaj Chaddah and Shikha Sunil Chandak Funding 1,273,634.07\\n2 21/12/2020 Pine Labs Financial Services Payment Solutions Provider Noida Lone Pine Capital Secondary Market Undisclosed\\n3 15/12/2020 Zenoti Technology Provider Cloud-based software provider for the spa and salon industries Washington Advent International Series D 160,000,000\\n4 22/12/2020 Tax Buddy India FinTech Online tax adviser Mumbai Zenith Global Seed 1,000,000\\n5 15/12/2020 Delhivery Supply chain Transportation Gurgaon Steadview Capital Secondary Market 25,000,000\\n6 18/12/2020 PagarBook SaaS Employee management platform Bengaluru Sequoia Capital Series A 15,000,000\",\n",
       " \"Sr. No. Date (dd/mm/yyyy) Startup Name Industry / Vertical Sub-Vertical City / Location Investors' Name Investment Type Amount (In USD)\\n1 30/11/2020 Codingal EduTech Online coding platform Bengaluru Rebright Partners, Java Capital, and GSF Accelerator Seed 560,000\\n2 30/11/2020 CRED Financial Services Credit Card Behavior Services Bengaluru DST Global Series C 80,000,000\\n3 29/11/2020 Bira 91 Food and Beverage Craft Beer New Delhi Sofina, Sequoia Capital, Sixth Sense Ventures, Neoplux Bridge Funding 3,000,000\\n4 27/11/2020 Chumbak Lifestyle Gifting Startup Bengaluru Gaja Capital Fund (GCFII-A) Pre-series E 1,001,047.92\\n5 25/11/2020 Cityflo Transportation App-based bus commute startup Mumbai Lightbox Ventures Series A 7,700,000\\n6 25/11/2020 Shipsy SaaS Software Automation Of Logistics Gurgaon Sequoia Capital India’s Surge, Info Edge Series A 6,003,806\\n7 25/11/2020 Unacademy Edutech Online Learning Platform Bengaluru Tiger Global Management, Dragoneer Investment Group Venture 75,000,000-100,000,000\\n8 24/11/2020 Cashfree FinTech Payments and banking technology Bengaluru Matrix Partners India, SAIF Partners, Ward Ferry Management and Bertelsmann India Series B 35,300,000\\n9 30/11/2020 Credgenics Fintech Critical NPA reduction for Fintech lenders and banks Gurgaon Venture Capital firm, Accel Partners and DMI Finance Pre-Series A 3,500,000\\n10 23/11/2020 Country Delight Dairy Tech Milk delivery startup Gurugram Elevation Capital Series C 25,000,000\",\n",
       " \"Sr. No. Date (dd/mm/yyyy) Startup Name Industry / Vertical Sub-Vertical City / Location Investors' Name Investment Type Amount (In USD)\\n1 28/10/2020 Nykaa E-commerce Beauty, Fashion, Lifestyle, Wellness Mumbai Alia Bhatt Personal Investment NA\\n2 28/10/2020 Betterplace Digital Solutions Blue Collar Workforce Management Platform Bangalore Jungle Ventures Series B 10,000,000\\n3 28/10/2020 FlexiLoans FinTech Digital Lending Platform Mumbai Falguni and Sanjay Nayar Family Office Equity and Debt 20,160,000\\n4 27/10/2020 GetVantage FinTech Revenue-Based Financing Platform Mumbai Chiratae Ventures, Dream Incubators Seed 5,000,000\\n5 27/10/2020 FreshToHome E-commerce Food Delivery Bangalore Corporation of Dubai (ICD), Ascent Capital, DFC, the Allana Group\\nSeries C 121,000,000\\n6 27/10/2020 Origo AgriTech Agricultural Commodities Management Gurgaon Northern Arc Capital Debt 4,700,000\\n7 27/10/2020 Origo Advertising Online Video Editing Mumbai Sequoia Capital India Series A 15,000,000\\n8 15/10/2020 Treebo Hotels Hospitality Budget Hospitality Chain Bangalore Matrix Partners India, SAIF Partners, Ward Ferry Management and Bertelsmann India 6,000,000\\n9 26/10/2020 Hubilo Information Technology Virtual Events Platform Wilmington, Delaware, United States Lightspeed Venture Partners Seed 4,500,000\\n10 28/10/2020 CredAble FinTech Supply Chain Finance Mumbai Oaks Asset Management and V’Ocean Investment Follow-On 4,500,000\",\n",
       " \"Sr. No. Date (dd/mm/yyyy) Startup Name Industry / Vertical Sub-Vertical City / Location Investors' Name Investment Type Amount (In USD)\\n1 08/09/2020 Byju’s EduTech Online Tutoring Bangalore Silver Lake, Tiger Global, General Atlantic and Owl Ventures\\nPrivate Equity 500,000,000\\n2 12/09/2020 mCaffeine Personal Care Skincare & Haircare Mumbai Amicus Capital Private Equity I LLP, Amicus Capital Partners India Fund I and RP-SG Venture Fund 1 Series B 3,000,000\\n3 09/09/2020 Qshala EduTech Online Curiosity Platform for Kids Bangalore Rainmatter Capital Angel 370,000\\n4 02/09/2020 Winzo Online Gaming Online Gaming New Delhi Kalaari Capital Partners, IndigoEdge Management Consultancy Series B 15,500,000\\n5 09/09/2020 Hippo Video Video Customer Experience(CX) Platform Video Customer Experience(CX) Platform Newark, Delaware, United States of Amercia Alpha Wave Incubation, Exfinity Venture Partners and existing backers.\\nSeries A 4,500,000\\n6 07/09/2020 Melorra E-commerce Online Jewelry Store\\nBangalore Shadow Holdings, Lightbox. Debt Financing upto 8,900,000\\n7 07/09/2020 1mg E-commerce Online Pharmacy Gurgaon Gaja Capital, Tata Capital, Partners Group In Progress 100,000,000\\n8 31/08/2020 mfine HealthTech On-Demand Healthcare Services Bangalore Caretech Pte Inc Series B 5,400,000\\n9 31/08/2020 Apna Human Resources Recruitment Platform Bangalore Lightspeed India and Sequoia Capital India Series A 8,000,000\\n10 03/09/2020 Railofy Transportation WL & RAC protection platform Mumbai Chiratae Ventures Seed 950,000\",\n",
       " \"Sr. No. Date (dd/mm/yyyy) Startup Name Industry / Vertical Sub-Vertical City / Location Investors' Name Investment Type Amount (In USD)\\n1 15/08/2020 Practo HealthTech Health care and Wellness Bangalore A1A Company\\nSeries F 32,000,000\\n2 13/08/2020 Medlife E-commerce Online Pharmacy Bangalore Prasid Uno Family Trust and SC Credit Fund 23,000,000\\n3 13/08/2020 HungerBox\\nFoodTech Online Food Delivery Service Bangalore One97, Sabre Partners Trust, Pratithi Investment Trust, and Srihari Kumar Series D1 1,560,000\\n4 04/08/2020 Dunzo Hyper-local Logistics Online Delivery Services Bangalore Existing Backers In Progress 30,000,000\\n5 11/08/2020 Terra.do EduTech Online Climate School, E-learning Stanford, California, Stanford Angels and Entrepreneurs (India), BEENEXT Emerging Asia, Rainmatter Capital\\n\\nSeed 1,400,000\\n6 12/08/2020 Classplus EduTech E-learning, Online Tutoring\\n\\nNoida Falcon Edge In Progress upto 15,000,000\\n7 14/08/2020 Niyo FinTech Financial Services Bangalore Niyo Solutions Inc. 6,000,000\\n8 10/08/2020 ZestMoney FinTech Financial Services Bangalore Primrose Hills Ventures 10,670,000\\n9 07/08/2020 FreshToHome E-commerce Food Delivery Bangalore Ascent Capital Venture 16,200,000\\n10 13/08/2020 Eduvanz FinTech Financial Services Mumbai Sequoia India, Unitus Series A 5,000,000\",\n",
       " \"Sr. No. Date (dd/mm/yyyy) Startup Name Industry / Vertical Sub-Vertical City / Location Investors' Name Investment Type Amount (In USD)\\n1 15/07/2020 Flipkart E-commerce E-commerce Bangalore Walmart Inc\\nM&A 1,200,000,000\\n2 16/07/2020 Vedantu EduTech Online Tutoring Bangalore Coatue Management Series D 100,000,000\\n3 16/07/2020 Crio EduTech Learning Platform for Developers Bangalore 021 Capital pre-Series A 934,160\\n4 14/07/2020 goDutch FinTech Group Payments Mumbai Matrix India,Y Combinator, Global Founders Capital, Soma Capital, and VentureSouq. Seed 1,700,000\\n5 13/07/2020 Mystifly\\nAirfare Marketplace Ticketing, Airline Retailing, and Post-Ticketing Services Singapore and Bangalore Recruit Co. Ltd.\\n\\npre-Series B 3,300,000\\n6 09/07/2020 JetSynthesys Gaming and Entertainment Gaming and Entertainment\\n\\nPune Adar Poonawalla and Kris Gopalakrishnan.\\nVenture-Series Unknown 400,000\\n7 10/07/2020 gigIndia\\nMarketplace Crowd Sourcing, Freelance Pune Incubate Fund India and Beyond Next Ventures pre-Series A 974,200\\n8 15/07/2020 PumPumPum Automotive Rental Used Car-leasing platform Gurgaon Early Adapters Syndicate Seed 292,800\\n9 14/07/2020 FLYX OTT Player Streaming Social Network New York and Delhi Raj Mishra, founder of AIT Global Inc pre-Seed 200,000\\n10 13/07/2020 Open Appliances Pvt. Ltd. Information Technology Internet-of-Things Security Solutions Bangalore Unicorn India Ventures Venture-Series Unknown 500,000\"]"
      ]
     },
     "execution_count": 16,
     "metadata": {},
     "output_type": "execute_result"
    }
   ],
   "source": [
    "#Now the text of the july entries is insid the tags extracted above.\n",
    "\n",
    "#so we will run a loop to iterate over the tags extracted above and extract the text inside them\n",
    "\n",
    "for i in july_20:\n",
    "    july=i.text\n",
    "    July_20.append(july)\n",
    "July_20[0:10]"
   ]
  },
  {
   "cell_type": "markdown",
   "metadata": {},
   "source": [
    "August_20"
   ]
  },
  {
   "cell_type": "code",
   "execution_count": 21,
   "metadata": {},
   "outputs": [
    {
     "data": {
      "text/plain": [
       "[<selenium.webdriver.remote.webelement.WebElement (session=\"80f2691b371221f6e9f4313c334d3b07\", element=\"5a9875c7-a261-435d-b819-32243991ae72\")>,\n",
       " <selenium.webdriver.remote.webelement.WebElement (session=\"80f2691b371221f6e9f4313c334d3b07\", element=\"2d2b6579-096c-4cc7-a1d3-f515c6a699a6\")>,\n",
       " <selenium.webdriver.remote.webelement.WebElement (session=\"80f2691b371221f6e9f4313c334d3b07\", element=\"016bde26-d0cb-48c9-861e-bf15aef3522a\")>,\n",
       " <selenium.webdriver.remote.webelement.WebElement (session=\"80f2691b371221f6e9f4313c334d3b07\", element=\"1b7d44d7-182f-4348-8e37-8779fb1c55b9\")>,\n",
       " <selenium.webdriver.remote.webelement.WebElement (session=\"80f2691b371221f6e9f4313c334d3b07\", element=\"7b261a95-4402-4741-8e83-cc73cdcd2fff\")>,\n",
       " <selenium.webdriver.remote.webelement.WebElement (session=\"80f2691b371221f6e9f4313c334d3b07\", element=\"71063d45-f140-45cd-82e2-e6e251504408\")>,\n",
       " <selenium.webdriver.remote.webelement.WebElement (session=\"80f2691b371221f6e9f4313c334d3b07\", element=\"cc169f4d-fd6b-49b5-b0f1-aab138b60855\")>,\n",
       " <selenium.webdriver.remote.webelement.WebElement (session=\"80f2691b371221f6e9f4313c334d3b07\", element=\"0c612386-a820-433a-8d06-0c121920b710\")>,\n",
       " <selenium.webdriver.remote.webelement.WebElement (session=\"80f2691b371221f6e9f4313c334d3b07\", element=\"fcc2aacf-00bc-4cb7-9c44-e8b2442ef6db\")>,\n",
       " <selenium.webdriver.remote.webelement.WebElement (session=\"80f2691b371221f6e9f4313c334d3b07\", element=\"edcca3c8-7a4a-498e-93e7-b8c57e11e0c0\")>]"
      ]
     },
     "execution_count": 21,
     "metadata": {},
     "output_type": "execute_result"
    }
   ],
   "source": [
    "#so lets extract all the tags having the july entries\n",
    "august_20=driver.find_elements_by_xpath(\"//div[@class='dataTables_scroll']\")\n",
    "august_20[0:10]"
   ]
  },
  {
   "cell_type": "code",
   "execution_count": 22,
   "metadata": {},
   "outputs": [
    {
     "data": {
      "text/plain": [
       "[\"Sr. No. Date (dd/mm/yyyy) Startup Name Industry / Vertical Sub-Vertical City / Location Investors' Name Investment Type Amount (In USD)\\n1 01/04/2021 BYJU’S Edu-tech Online tutoring Bengaluru Innoven Capital Series F 460,000,000\\n2 05/04/2021 Meesho E-commerce Online reselling platform Bengaluru SoftBank Vision Fund 2 Series E 300,000,000\\n3 14/04/2021 Swiggy Online Food Delivery Online Food Delivery Bengaluru Amansa Holdings, Carmignac, Falcon Edge Capital, Goldman Sachs, Think Investments Series J 343,000,000\\n4 07/04/2021 Groww FinTech Investment platform Bengaluru MC Global Edtech, B Capital, Baron, others Series D 83,000,000\\n5 14/04/2021 Beldara E-commerce Global B2B marketplace Mumbai Hindustan Media Ventures Venture 7,400,000\",\n",
       " \"Sr. No. Date (dd/mm/yyyy) Startup Name Industry / Vertical Sub-Vertical City / Location Investors' Name Investment Type Amount (In USD)\\n1 04/03/2021 DealShare E-commerce Online shopping platform Jaipur, Rajasthan Innoven Capital Debt Financing 250,000,000\\n2 31/03/2021 Uniphore Technology Conversational Service Automation (CSA) Palo Alto Sorenson Capital Partners Series D 140,000,000\\n3 30/03/2021 Dunzo E-commerce Hyper-local delivery app Bengaluru Krishtal Advisors Pte Ltd Series E 8,000,000\\n4 30/03/2021 BYJU’S Edu-tech Online tutoring Bengaluru MC Global Edtech, B Capital, Baron, others Series F 460,000,000\\n5 23/03/2021 SkilloVilla Edu-tech Career and job-oriented upskilling. Bengaluru Titan Capital, others Seed 300,000,000\\n6 25/03/2021 CityMall E-commerce Social ecommerce and online grocery platform Gurgaon Accel Partners Series A 11,000,000\\n7 26/03/2021 DotPe FinTech Commerce and payments platform to offline enterprise businesses. Gurgaon PayU Series A 27,500,000\",\n",
       " \"Sr. No. Date (dd/mm/yyyy) Startup Name Industry / Vertical Sub-Vertical City / Location Investors' Name Investment Type Amount (In USD)\\n1 11/02/2021 Doubtnut Edu Tech E-Learning Platform Gurgaon SIG Global, Sequoia Capital, WaterBridge Ventures and ON Mauritius Series B 2,500,000\\n2 22/02/2021 Zomato Hospitality Online Food Delivery Platform Gurgaon Tiger Global, Kora Venture 250,000,000\\n3 19/02/2021 Fingerlix Hospitality Semi-cooked food delivery app Mumbai Rhodium Trust, Accel Partners and Swiggy Series C 2,747,045.20\\n4 17/02/2021 Zolve FinTech Global Neobank Venture Mumbai Accel Partners and Lightspeed Venture Partners Seed 1,50,00,000\\n5 15/02/2021 KreditBee Finance Digital lending platform Bengaluru Azim Premji’s PremjiInvest and South Korea’s Mirae Asset Venture Series C 75,000,000\\n6 12/02/2021 Pepperfry E-commerce Multi-brand furniture brand Mumbai InnoVen Capital Debt Financing 4,773,958\\n7 12/02/2021 Grofers E-Commerce Online supermarket Gurgaon SoftBank Vision Fund (SVF) Unspecified 55,000,000\\n8 09/02/2021 Nothing Technology Consumer Technology Venture London GV Series A 15,000,000\\n9 09/02/2021 SplashLearn EdTech Game-based learning programme Gurgaon Owl Ventures Series C 18,000,000\",\n",
       " \"Sr. No. Date (dd/mm/yyyy) Startup Name Industry / Vertical Sub-Vertical City / Location Investors' Name Investment Type Amount (In USD)\\n1 15/01/2021 Digit Insurance Financial Services Insurance Services Bengaluru A91 Partners, Faering Capital, TVS Capital Funds Venture 1,80,00,000\\n2 28/01/2021 Bombay Shaving Company Consumer Goods Company Shave care, beard care, and skincare products New Delhi Reckitt Benckiser Venture 6,172,258.50\\n3 19/01/2021 DeHaat AgriTech Startup online marketplace for farm products and services Patna Prosus Ventures Series C 30,000,000\\n4 19/01/2021 Darwinbox SaaS HR Tech Mumbai Salesforce Ventures Seed 15,000,000\\n5 18/01/2021 mfine Health Tech Startup AI-powered telemedicine mobile app Bengaluru Heritas Capital Management Venture Round 16,000,000\\n6 18/01/2021 Udayy EdTech Online learning platform for kids in class 1-5 Gurgaon Sequoia Capital Seed Funding 15,000,000\\n7 11/01/2021 True Elements Food Startup Whole Food plant based Nashta Pune SIDBI Venture Capital Series 100,000,000\\n8 13/01/2021 Saveo B2B E-commerce Pharmacies Bengaluru Matrix Partners India, RTP Global, others Seed 4,000,000\",\n",
       " \"Sr. No. Date (dd/mm/yyyy) Startup Name Industry / Vertical Sub-Vertical City / Location Investors' Name Investment Type Amount (In USD)\\n1 15/12/2020 Bira 91 Food and Beverage Craft Beer New Delhi Nishant Mittal, Pankaj Chaddah and Shikha Sunil Chandak Funding 1,273,634.07\\n2 21/12/2020 Pine Labs Financial Services Payment Solutions Provider Noida Lone Pine Capital Secondary Market Undisclosed\\n3 15/12/2020 Zenoti Technology Provider Cloud-based software provider for the spa and salon industries Washington Advent International Series D 160,000,000\\n4 22/12/2020 Tax Buddy India FinTech Online tax adviser Mumbai Zenith Global Seed 1,000,000\\n5 15/12/2020 Delhivery Supply chain Transportation Gurgaon Steadview Capital Secondary Market 25,000,000\\n6 18/12/2020 PagarBook SaaS Employee management platform Bengaluru Sequoia Capital Series A 15,000,000\",\n",
       " \"Sr. No. Date (dd/mm/yyyy) Startup Name Industry / Vertical Sub-Vertical City / Location Investors' Name Investment Type Amount (In USD)\\n1 30/11/2020 Codingal EduTech Online coding platform Bengaluru Rebright Partners, Java Capital, and GSF Accelerator Seed 560,000\\n2 30/11/2020 CRED Financial Services Credit Card Behavior Services Bengaluru DST Global Series C 80,000,000\\n3 29/11/2020 Bira 91 Food and Beverage Craft Beer New Delhi Sofina, Sequoia Capital, Sixth Sense Ventures, Neoplux Bridge Funding 3,000,000\\n4 27/11/2020 Chumbak Lifestyle Gifting Startup Bengaluru Gaja Capital Fund (GCFII-A) Pre-series E 1,001,047.92\\n5 25/11/2020 Cityflo Transportation App-based bus commute startup Mumbai Lightbox Ventures Series A 7,700,000\\n6 25/11/2020 Shipsy SaaS Software Automation Of Logistics Gurgaon Sequoia Capital India’s Surge, Info Edge Series A 6,003,806\\n7 25/11/2020 Unacademy Edutech Online Learning Platform Bengaluru Tiger Global Management, Dragoneer Investment Group Venture 75,000,000-100,000,000\\n8 24/11/2020 Cashfree FinTech Payments and banking technology Bengaluru Matrix Partners India, SAIF Partners, Ward Ferry Management and Bertelsmann India Series B 35,300,000\\n9 30/11/2020 Credgenics Fintech Critical NPA reduction for Fintech lenders and banks Gurgaon Venture Capital firm, Accel Partners and DMI Finance Pre-Series A 3,500,000\\n10 23/11/2020 Country Delight Dairy Tech Milk delivery startup Gurugram Elevation Capital Series C 25,000,000\",\n",
       " \"Sr. No. Date (dd/mm/yyyy) Startup Name Industry / Vertical Sub-Vertical City / Location Investors' Name Investment Type Amount (In USD)\\n1 28/10/2020 Nykaa E-commerce Beauty, Fashion, Lifestyle, Wellness Mumbai Alia Bhatt Personal Investment NA\\n2 28/10/2020 Betterplace Digital Solutions Blue Collar Workforce Management Platform Bangalore Jungle Ventures Series B 10,000,000\\n3 28/10/2020 FlexiLoans FinTech Digital Lending Platform Mumbai Falguni and Sanjay Nayar Family Office Equity and Debt 20,160,000\\n4 27/10/2020 GetVantage FinTech Revenue-Based Financing Platform Mumbai Chiratae Ventures, Dream Incubators Seed 5,000,000\\n5 27/10/2020 FreshToHome E-commerce Food Delivery Bangalore Corporation of Dubai (ICD), Ascent Capital, DFC, the Allana Group\\nSeries C 121,000,000\\n6 27/10/2020 Origo AgriTech Agricultural Commodities Management Gurgaon Northern Arc Capital Debt 4,700,000\\n7 27/10/2020 Origo Advertising Online Video Editing Mumbai Sequoia Capital India Series A 15,000,000\\n8 15/10/2020 Treebo Hotels Hospitality Budget Hospitality Chain Bangalore Matrix Partners India, SAIF Partners, Ward Ferry Management and Bertelsmann India 6,000,000\\n9 26/10/2020 Hubilo Information Technology Virtual Events Platform Wilmington, Delaware, United States Lightspeed Venture Partners Seed 4,500,000\\n10 28/10/2020 CredAble FinTech Supply Chain Finance Mumbai Oaks Asset Management and V’Ocean Investment Follow-On 4,500,000\",\n",
       " \"Sr. No. Date (dd/mm/yyyy) Startup Name Industry / Vertical Sub-Vertical City / Location Investors' Name Investment Type Amount (In USD)\\n1 08/09/2020 Byju’s EduTech Online Tutoring Bangalore Silver Lake, Tiger Global, General Atlantic and Owl Ventures\\nPrivate Equity 500,000,000\\n2 12/09/2020 mCaffeine Personal Care Skincare & Haircare Mumbai Amicus Capital Private Equity I LLP, Amicus Capital Partners India Fund I and RP-SG Venture Fund 1 Series B 3,000,000\\n3 09/09/2020 Qshala EduTech Online Curiosity Platform for Kids Bangalore Rainmatter Capital Angel 370,000\\n4 02/09/2020 Winzo Online Gaming Online Gaming New Delhi Kalaari Capital Partners, IndigoEdge Management Consultancy Series B 15,500,000\\n5 09/09/2020 Hippo Video Video Customer Experience(CX) Platform Video Customer Experience(CX) Platform Newark, Delaware, United States of Amercia Alpha Wave Incubation, Exfinity Venture Partners and existing backers.\\nSeries A 4,500,000\\n6 07/09/2020 Melorra E-commerce Online Jewelry Store\\nBangalore Shadow Holdings, Lightbox. Debt Financing upto 8,900,000\\n7 07/09/2020 1mg E-commerce Online Pharmacy Gurgaon Gaja Capital, Tata Capital, Partners Group In Progress 100,000,000\\n8 31/08/2020 mfine HealthTech On-Demand Healthcare Services Bangalore Caretech Pte Inc Series B 5,400,000\\n9 31/08/2020 Apna Human Resources Recruitment Platform Bangalore Lightspeed India and Sequoia Capital India Series A 8,000,000\\n10 03/09/2020 Railofy Transportation WL & RAC protection platform Mumbai Chiratae Ventures Seed 950,000\",\n",
       " \"Sr. No. Date (dd/mm/yyyy) Startup Name Industry / Vertical Sub-Vertical City / Location Investors' Name Investment Type Amount (In USD)\\n1 15/08/2020 Practo HealthTech Health care and Wellness Bangalore A1A Company\\nSeries F 32,000,000\\n2 13/08/2020 Medlife E-commerce Online Pharmacy Bangalore Prasid Uno Family Trust and SC Credit Fund 23,000,000\\n3 13/08/2020 HungerBox\\nFoodTech Online Food Delivery Service Bangalore One97, Sabre Partners Trust, Pratithi Investment Trust, and Srihari Kumar Series D1 1,560,000\\n4 04/08/2020 Dunzo Hyper-local Logistics Online Delivery Services Bangalore Existing Backers In Progress 30,000,000\\n5 11/08/2020 Terra.do EduTech Online Climate School, E-learning Stanford, California, Stanford Angels and Entrepreneurs (India), BEENEXT Emerging Asia, Rainmatter Capital\\n\\nSeed 1,400,000\\n6 12/08/2020 Classplus EduTech E-learning, Online Tutoring\\n\\nNoida Falcon Edge In Progress upto 15,000,000\\n7 14/08/2020 Niyo FinTech Financial Services Bangalore Niyo Solutions Inc. 6,000,000\\n8 10/08/2020 ZestMoney FinTech Financial Services Bangalore Primrose Hills Ventures 10,670,000\\n9 07/08/2020 FreshToHome E-commerce Food Delivery Bangalore Ascent Capital Venture 16,200,000\\n10 13/08/2020 Eduvanz FinTech Financial Services Mumbai Sequoia India, Unitus Series A 5,000,000\",\n",
       " \"Sr. No. Date (dd/mm/yyyy) Startup Name Industry / Vertical Sub-Vertical City / Location Investors' Name Investment Type Amount (In USD)\\n1 15/07/2020 Flipkart E-commerce E-commerce Bangalore Walmart Inc\\nM&A 1,200,000,000\\n2 16/07/2020 Vedantu EduTech Online Tutoring Bangalore Coatue Management Series D 100,000,000\\n3 16/07/2020 Crio EduTech Learning Platform for Developers Bangalore 021 Capital pre-Series A 934,160\\n4 14/07/2020 goDutch FinTech Group Payments Mumbai Matrix India,Y Combinator, Global Founders Capital, Soma Capital, and VentureSouq. Seed 1,700,000\\n5 13/07/2020 Mystifly\\nAirfare Marketplace Ticketing, Airline Retailing, and Post-Ticketing Services Singapore and Bangalore Recruit Co. Ltd.\\n\\npre-Series B 3,300,000\\n6 09/07/2020 JetSynthesys Gaming and Entertainment Gaming and Entertainment\\n\\nPune Adar Poonawalla and Kris Gopalakrishnan.\\nVenture-Series Unknown 400,000\\n7 10/07/2020 gigIndia\\nMarketplace Crowd Sourcing, Freelance Pune Incubate Fund India and Beyond Next Ventures pre-Series A 974,200\\n8 15/07/2020 PumPumPum Automotive Rental Used Car-leasing platform Gurgaon Early Adapters Syndicate Seed 292,800\\n9 14/07/2020 FLYX OTT Player Streaming Social Network New York and Delhi Raj Mishra, founder of AIT Global Inc pre-Seed 200,000\\n10 13/07/2020 Open Appliances Pvt. Ltd. Information Technology Internet-of-Things Security Solutions Bangalore Unicorn India Ventures Venture-Series Unknown 500,000\"]"
      ]
     },
     "execution_count": 22,
     "metadata": {},
     "output_type": "execute_result"
    }
   ],
   "source": [
    "#Now the text of the july entries is insid the tags extracted above.\n",
    "\n",
    "#so we will run a loop to iterate over the tags extracted above and extract the text inside them\n",
    "\n",
    "for i in august_20:\n",
    "    august=i.text\n",
    "    August_20.append(august)\n",
    "August_20[0:10]"
   ]
  },
  {
   "cell_type": "markdown",
   "metadata": {},
   "source": [
    "September_20"
   ]
  },
  {
   "cell_type": "code",
   "execution_count": 18,
   "metadata": {},
   "outputs": [
    {
     "data": {
      "text/plain": [
       "[<selenium.webdriver.remote.webelement.WebElement (session=\"80f2691b371221f6e9f4313c334d3b07\", element=\"5a9875c7-a261-435d-b819-32243991ae72\")>,\n",
       " <selenium.webdriver.remote.webelement.WebElement (session=\"80f2691b371221f6e9f4313c334d3b07\", element=\"2d2b6579-096c-4cc7-a1d3-f515c6a699a6\")>,\n",
       " <selenium.webdriver.remote.webelement.WebElement (session=\"80f2691b371221f6e9f4313c334d3b07\", element=\"016bde26-d0cb-48c9-861e-bf15aef3522a\")>,\n",
       " <selenium.webdriver.remote.webelement.WebElement (session=\"80f2691b371221f6e9f4313c334d3b07\", element=\"1b7d44d7-182f-4348-8e37-8779fb1c55b9\")>,\n",
       " <selenium.webdriver.remote.webelement.WebElement (session=\"80f2691b371221f6e9f4313c334d3b07\", element=\"7b261a95-4402-4741-8e83-cc73cdcd2fff\")>,\n",
       " <selenium.webdriver.remote.webelement.WebElement (session=\"80f2691b371221f6e9f4313c334d3b07\", element=\"71063d45-f140-45cd-82e2-e6e251504408\")>,\n",
       " <selenium.webdriver.remote.webelement.WebElement (session=\"80f2691b371221f6e9f4313c334d3b07\", element=\"cc169f4d-fd6b-49b5-b0f1-aab138b60855\")>,\n",
       " <selenium.webdriver.remote.webelement.WebElement (session=\"80f2691b371221f6e9f4313c334d3b07\", element=\"0c612386-a820-433a-8d06-0c121920b710\")>,\n",
       " <selenium.webdriver.remote.webelement.WebElement (session=\"80f2691b371221f6e9f4313c334d3b07\", element=\"fcc2aacf-00bc-4cb7-9c44-e8b2442ef6db\")>,\n",
       " <selenium.webdriver.remote.webelement.WebElement (session=\"80f2691b371221f6e9f4313c334d3b07\", element=\"edcca3c8-7a4a-498e-93e7-b8c57e11e0c0\")>]"
      ]
     },
     "execution_count": 18,
     "metadata": {},
     "output_type": "execute_result"
    }
   ],
   "source": [
    "#so lets extract all the tags having the september entries\n",
    "september_20=driver.find_elements_by_xpath(\"//div[@class='dataTables_scroll']\")\n",
    "september_20[0:10]"
   ]
  },
  {
   "cell_type": "code",
   "execution_count": 19,
   "metadata": {},
   "outputs": [
    {
     "data": {
      "text/plain": [
       "[\"Sr. No. Date (dd/mm/yyyy) Startup Name Industry / Vertical Sub-Vertical City / Location Investors' Name Investment Type Amount (In USD)\\n1 01/04/2021 BYJU’S Edu-tech Online tutoring Bengaluru Innoven Capital Series F 460,000,000\\n2 05/04/2021 Meesho E-commerce Online reselling platform Bengaluru SoftBank Vision Fund 2 Series E 300,000,000\\n3 14/04/2021 Swiggy Online Food Delivery Online Food Delivery Bengaluru Amansa Holdings, Carmignac, Falcon Edge Capital, Goldman Sachs, Think Investments Series J 343,000,000\\n4 07/04/2021 Groww FinTech Investment platform Bengaluru MC Global Edtech, B Capital, Baron, others Series D 83,000,000\\n5 14/04/2021 Beldara E-commerce Global B2B marketplace Mumbai Hindustan Media Ventures Venture 7,400,000\",\n",
       " \"Sr. No. Date (dd/mm/yyyy) Startup Name Industry / Vertical Sub-Vertical City / Location Investors' Name Investment Type Amount (In USD)\\n1 04/03/2021 DealShare E-commerce Online shopping platform Jaipur, Rajasthan Innoven Capital Debt Financing 250,000,000\\n2 31/03/2021 Uniphore Technology Conversational Service Automation (CSA) Palo Alto Sorenson Capital Partners Series D 140,000,000\\n3 30/03/2021 Dunzo E-commerce Hyper-local delivery app Bengaluru Krishtal Advisors Pte Ltd Series E 8,000,000\\n4 30/03/2021 BYJU’S Edu-tech Online tutoring Bengaluru MC Global Edtech, B Capital, Baron, others Series F 460,000,000\\n5 23/03/2021 SkilloVilla Edu-tech Career and job-oriented upskilling. Bengaluru Titan Capital, others Seed 300,000,000\\n6 25/03/2021 CityMall E-commerce Social ecommerce and online grocery platform Gurgaon Accel Partners Series A 11,000,000\\n7 26/03/2021 DotPe FinTech Commerce and payments platform to offline enterprise businesses. Gurgaon PayU Series A 27,500,000\",\n",
       " \"Sr. No. Date (dd/mm/yyyy) Startup Name Industry / Vertical Sub-Vertical City / Location Investors' Name Investment Type Amount (In USD)\\n1 11/02/2021 Doubtnut Edu Tech E-Learning Platform Gurgaon SIG Global, Sequoia Capital, WaterBridge Ventures and ON Mauritius Series B 2,500,000\\n2 22/02/2021 Zomato Hospitality Online Food Delivery Platform Gurgaon Tiger Global, Kora Venture 250,000,000\\n3 19/02/2021 Fingerlix Hospitality Semi-cooked food delivery app Mumbai Rhodium Trust, Accel Partners and Swiggy Series C 2,747,045.20\\n4 17/02/2021 Zolve FinTech Global Neobank Venture Mumbai Accel Partners and Lightspeed Venture Partners Seed 1,50,00,000\\n5 15/02/2021 KreditBee Finance Digital lending platform Bengaluru Azim Premji’s PremjiInvest and South Korea’s Mirae Asset Venture Series C 75,000,000\\n6 12/02/2021 Pepperfry E-commerce Multi-brand furniture brand Mumbai InnoVen Capital Debt Financing 4,773,958\\n7 12/02/2021 Grofers E-Commerce Online supermarket Gurgaon SoftBank Vision Fund (SVF) Unspecified 55,000,000\\n8 09/02/2021 Nothing Technology Consumer Technology Venture London GV Series A 15,000,000\\n9 09/02/2021 SplashLearn EdTech Game-based learning programme Gurgaon Owl Ventures Series C 18,000,000\",\n",
       " \"Sr. No. Date (dd/mm/yyyy) Startup Name Industry / Vertical Sub-Vertical City / Location Investors' Name Investment Type Amount (In USD)\\n1 15/01/2021 Digit Insurance Financial Services Insurance Services Bengaluru A91 Partners, Faering Capital, TVS Capital Funds Venture 1,80,00,000\\n2 28/01/2021 Bombay Shaving Company Consumer Goods Company Shave care, beard care, and skincare products New Delhi Reckitt Benckiser Venture 6,172,258.50\\n3 19/01/2021 DeHaat AgriTech Startup online marketplace for farm products and services Patna Prosus Ventures Series C 30,000,000\\n4 19/01/2021 Darwinbox SaaS HR Tech Mumbai Salesforce Ventures Seed 15,000,000\\n5 18/01/2021 mfine Health Tech Startup AI-powered telemedicine mobile app Bengaluru Heritas Capital Management Venture Round 16,000,000\\n6 18/01/2021 Udayy EdTech Online learning platform for kids in class 1-5 Gurgaon Sequoia Capital Seed Funding 15,000,000\\n7 11/01/2021 True Elements Food Startup Whole Food plant based Nashta Pune SIDBI Venture Capital Series 100,000,000\\n8 13/01/2021 Saveo B2B E-commerce Pharmacies Bengaluru Matrix Partners India, RTP Global, others Seed 4,000,000\",\n",
       " \"Sr. No. Date (dd/mm/yyyy) Startup Name Industry / Vertical Sub-Vertical City / Location Investors' Name Investment Type Amount (In USD)\\n1 15/12/2020 Bira 91 Food and Beverage Craft Beer New Delhi Nishant Mittal, Pankaj Chaddah and Shikha Sunil Chandak Funding 1,273,634.07\\n2 21/12/2020 Pine Labs Financial Services Payment Solutions Provider Noida Lone Pine Capital Secondary Market Undisclosed\\n3 15/12/2020 Zenoti Technology Provider Cloud-based software provider for the spa and salon industries Washington Advent International Series D 160,000,000\\n4 22/12/2020 Tax Buddy India FinTech Online tax adviser Mumbai Zenith Global Seed 1,000,000\\n5 15/12/2020 Delhivery Supply chain Transportation Gurgaon Steadview Capital Secondary Market 25,000,000\\n6 18/12/2020 PagarBook SaaS Employee management platform Bengaluru Sequoia Capital Series A 15,000,000\",\n",
       " \"Sr. No. Date (dd/mm/yyyy) Startup Name Industry / Vertical Sub-Vertical City / Location Investors' Name Investment Type Amount (In USD)\\n1 30/11/2020 Codingal EduTech Online coding platform Bengaluru Rebright Partners, Java Capital, and GSF Accelerator Seed 560,000\\n2 30/11/2020 CRED Financial Services Credit Card Behavior Services Bengaluru DST Global Series C 80,000,000\\n3 29/11/2020 Bira 91 Food and Beverage Craft Beer New Delhi Sofina, Sequoia Capital, Sixth Sense Ventures, Neoplux Bridge Funding 3,000,000\\n4 27/11/2020 Chumbak Lifestyle Gifting Startup Bengaluru Gaja Capital Fund (GCFII-A) Pre-series E 1,001,047.92\\n5 25/11/2020 Cityflo Transportation App-based bus commute startup Mumbai Lightbox Ventures Series A 7,700,000\\n6 25/11/2020 Shipsy SaaS Software Automation Of Logistics Gurgaon Sequoia Capital India’s Surge, Info Edge Series A 6,003,806\\n7 25/11/2020 Unacademy Edutech Online Learning Platform Bengaluru Tiger Global Management, Dragoneer Investment Group Venture 75,000,000-100,000,000\\n8 24/11/2020 Cashfree FinTech Payments and banking technology Bengaluru Matrix Partners India, SAIF Partners, Ward Ferry Management and Bertelsmann India Series B 35,300,000\\n9 30/11/2020 Credgenics Fintech Critical NPA reduction for Fintech lenders and banks Gurgaon Venture Capital firm, Accel Partners and DMI Finance Pre-Series A 3,500,000\\n10 23/11/2020 Country Delight Dairy Tech Milk delivery startup Gurugram Elevation Capital Series C 25,000,000\",\n",
       " \"Sr. No. Date (dd/mm/yyyy) Startup Name Industry / Vertical Sub-Vertical City / Location Investors' Name Investment Type Amount (In USD)\\n1 28/10/2020 Nykaa E-commerce Beauty, Fashion, Lifestyle, Wellness Mumbai Alia Bhatt Personal Investment NA\\n2 28/10/2020 Betterplace Digital Solutions Blue Collar Workforce Management Platform Bangalore Jungle Ventures Series B 10,000,000\\n3 28/10/2020 FlexiLoans FinTech Digital Lending Platform Mumbai Falguni and Sanjay Nayar Family Office Equity and Debt 20,160,000\\n4 27/10/2020 GetVantage FinTech Revenue-Based Financing Platform Mumbai Chiratae Ventures, Dream Incubators Seed 5,000,000\\n5 27/10/2020 FreshToHome E-commerce Food Delivery Bangalore Corporation of Dubai (ICD), Ascent Capital, DFC, the Allana Group\\nSeries C 121,000,000\\n6 27/10/2020 Origo AgriTech Agricultural Commodities Management Gurgaon Northern Arc Capital Debt 4,700,000\\n7 27/10/2020 Origo Advertising Online Video Editing Mumbai Sequoia Capital India Series A 15,000,000\\n8 15/10/2020 Treebo Hotels Hospitality Budget Hospitality Chain Bangalore Matrix Partners India, SAIF Partners, Ward Ferry Management and Bertelsmann India 6,000,000\\n9 26/10/2020 Hubilo Information Technology Virtual Events Platform Wilmington, Delaware, United States Lightspeed Venture Partners Seed 4,500,000\\n10 28/10/2020 CredAble FinTech Supply Chain Finance Mumbai Oaks Asset Management and V’Ocean Investment Follow-On 4,500,000\",\n",
       " \"Sr. No. Date (dd/mm/yyyy) Startup Name Industry / Vertical Sub-Vertical City / Location Investors' Name Investment Type Amount (In USD)\\n1 08/09/2020 Byju’s EduTech Online Tutoring Bangalore Silver Lake, Tiger Global, General Atlantic and Owl Ventures\\nPrivate Equity 500,000,000\\n2 12/09/2020 mCaffeine Personal Care Skincare & Haircare Mumbai Amicus Capital Private Equity I LLP, Amicus Capital Partners India Fund I and RP-SG Venture Fund 1 Series B 3,000,000\\n3 09/09/2020 Qshala EduTech Online Curiosity Platform for Kids Bangalore Rainmatter Capital Angel 370,000\\n4 02/09/2020 Winzo Online Gaming Online Gaming New Delhi Kalaari Capital Partners, IndigoEdge Management Consultancy Series B 15,500,000\\n5 09/09/2020 Hippo Video Video Customer Experience(CX) Platform Video Customer Experience(CX) Platform Newark, Delaware, United States of Amercia Alpha Wave Incubation, Exfinity Venture Partners and existing backers.\\nSeries A 4,500,000\\n6 07/09/2020 Melorra E-commerce Online Jewelry Store\\nBangalore Shadow Holdings, Lightbox. Debt Financing upto 8,900,000\\n7 07/09/2020 1mg E-commerce Online Pharmacy Gurgaon Gaja Capital, Tata Capital, Partners Group In Progress 100,000,000\\n8 31/08/2020 mfine HealthTech On-Demand Healthcare Services Bangalore Caretech Pte Inc Series B 5,400,000\\n9 31/08/2020 Apna Human Resources Recruitment Platform Bangalore Lightspeed India and Sequoia Capital India Series A 8,000,000\\n10 03/09/2020 Railofy Transportation WL & RAC protection platform Mumbai Chiratae Ventures Seed 950,000\",\n",
       " \"Sr. No. Date (dd/mm/yyyy) Startup Name Industry / Vertical Sub-Vertical City / Location Investors' Name Investment Type Amount (In USD)\\n1 15/08/2020 Practo HealthTech Health care and Wellness Bangalore A1A Company\\nSeries F 32,000,000\\n2 13/08/2020 Medlife E-commerce Online Pharmacy Bangalore Prasid Uno Family Trust and SC Credit Fund 23,000,000\\n3 13/08/2020 HungerBox\\nFoodTech Online Food Delivery Service Bangalore One97, Sabre Partners Trust, Pratithi Investment Trust, and Srihari Kumar Series D1 1,560,000\\n4 04/08/2020 Dunzo Hyper-local Logistics Online Delivery Services Bangalore Existing Backers In Progress 30,000,000\\n5 11/08/2020 Terra.do EduTech Online Climate School, E-learning Stanford, California, Stanford Angels and Entrepreneurs (India), BEENEXT Emerging Asia, Rainmatter Capital\\n\\nSeed 1,400,000\\n6 12/08/2020 Classplus EduTech E-learning, Online Tutoring\\n\\nNoida Falcon Edge In Progress upto 15,000,000\\n7 14/08/2020 Niyo FinTech Financial Services Bangalore Niyo Solutions Inc. 6,000,000\\n8 10/08/2020 ZestMoney FinTech Financial Services Bangalore Primrose Hills Ventures 10,670,000\\n9 07/08/2020 FreshToHome E-commerce Food Delivery Bangalore Ascent Capital Venture 16,200,000\\n10 13/08/2020 Eduvanz FinTech Financial Services Mumbai Sequoia India, Unitus Series A 5,000,000\",\n",
       " \"Sr. No. Date (dd/mm/yyyy) Startup Name Industry / Vertical Sub-Vertical City / Location Investors' Name Investment Type Amount (In USD)\\n1 15/07/2020 Flipkart E-commerce E-commerce Bangalore Walmart Inc\\nM&A 1,200,000,000\\n2 16/07/2020 Vedantu EduTech Online Tutoring Bangalore Coatue Management Series D 100,000,000\\n3 16/07/2020 Crio EduTech Learning Platform for Developers Bangalore 021 Capital pre-Series A 934,160\\n4 14/07/2020 goDutch FinTech Group Payments Mumbai Matrix India,Y Combinator, Global Founders Capital, Soma Capital, and VentureSouq. Seed 1,700,000\\n5 13/07/2020 Mystifly\\nAirfare Marketplace Ticketing, Airline Retailing, and Post-Ticketing Services Singapore and Bangalore Recruit Co. Ltd.\\n\\npre-Series B 3,300,000\\n6 09/07/2020 JetSynthesys Gaming and Entertainment Gaming and Entertainment\\n\\nPune Adar Poonawalla and Kris Gopalakrishnan.\\nVenture-Series Unknown 400,000\\n7 10/07/2020 gigIndia\\nMarketplace Crowd Sourcing, Freelance Pune Incubate Fund India and Beyond Next Ventures pre-Series A 974,200\\n8 15/07/2020 PumPumPum Automotive Rental Used Car-leasing platform Gurgaon Early Adapters Syndicate Seed 292,800\\n9 14/07/2020 FLYX OTT Player Streaming Social Network New York and Delhi Raj Mishra, founder of AIT Global Inc pre-Seed 200,000\\n10 13/07/2020 Open Appliances Pvt. Ltd. Information Technology Internet-of-Things Security Solutions Bangalore Unicorn India Ventures Venture-Series Unknown 500,000\"]"
      ]
     },
     "execution_count": 19,
     "metadata": {},
     "output_type": "execute_result"
    }
   ],
   "source": [
    "#Now the text of the september entries is insid the tags extracted above.\n",
    "\n",
    "#so we will run a loop to iterate over the tags extracted above and extract the text inside them\n",
    "\n",
    "for i in september_20:\n",
    "    september=i.text\n",
    "    September_20.append(september)\n",
    "September_20[0:10]"
   ]
  },
  {
   "cell_type": "code",
   "execution_count": 23,
   "metadata": {},
   "outputs": [
    {
     "name": "stdout",
     "output_type": "stream",
     "text": [
      "45 45 45\n"
     ]
    }
   ],
   "source": [
    "print(len(July_20),len(August_20),len(September_20))"
   ]
  },
  {
   "cell_type": "code",
   "execution_count": 24,
   "metadata": {},
   "outputs": [],
   "source": [
    "#import pandas as pd\n",
    "entries=pd.DataFrame({})\n",
    "entries['july']=July_20\n",
    "entries['august']=August_20\n",
    "entries['september']=September_20"
   ]
  },
  {
   "cell_type": "code",
   "execution_count": 25,
   "metadata": {},
   "outputs": [
    {
     "data": {
      "text/html": [
       "<div>\n",
       "<style scoped>\n",
       "    .dataframe tbody tr th:only-of-type {\n",
       "        vertical-align: middle;\n",
       "    }\n",
       "\n",
       "    .dataframe tbody tr th {\n",
       "        vertical-align: top;\n",
       "    }\n",
       "\n",
       "    .dataframe thead th {\n",
       "        text-align: right;\n",
       "    }\n",
       "</style>\n",
       "<table border=\"1\" class=\"dataframe\">\n",
       "  <thead>\n",
       "    <tr style=\"text-align: right;\">\n",
       "      <th></th>\n",
       "      <th>july</th>\n",
       "      <th>august</th>\n",
       "      <th>september</th>\n",
       "    </tr>\n",
       "  </thead>\n",
       "  <tbody>\n",
       "    <tr>\n",
       "      <th>0</th>\n",
       "      <td>Sr. No. Date (dd/mm/yyyy) Startup Name Industr...</td>\n",
       "      <td>Sr. No. Date (dd/mm/yyyy) Startup Name Industr...</td>\n",
       "      <td>Sr. No. Date (dd/mm/yyyy) Startup Name Industr...</td>\n",
       "    </tr>\n",
       "    <tr>\n",
       "      <th>1</th>\n",
       "      <td>Sr. No. Date (dd/mm/yyyy) Startup Name Industr...</td>\n",
       "      <td>Sr. No. Date (dd/mm/yyyy) Startup Name Industr...</td>\n",
       "      <td>Sr. No. Date (dd/mm/yyyy) Startup Name Industr...</td>\n",
       "    </tr>\n",
       "    <tr>\n",
       "      <th>2</th>\n",
       "      <td>Sr. No. Date (dd/mm/yyyy) Startup Name Industr...</td>\n",
       "      <td>Sr. No. Date (dd/mm/yyyy) Startup Name Industr...</td>\n",
       "      <td>Sr. No. Date (dd/mm/yyyy) Startup Name Industr...</td>\n",
       "    </tr>\n",
       "    <tr>\n",
       "      <th>3</th>\n",
       "      <td>Sr. No. Date (dd/mm/yyyy) Startup Name Industr...</td>\n",
       "      <td>Sr. No. Date (dd/mm/yyyy) Startup Name Industr...</td>\n",
       "      <td>Sr. No. Date (dd/mm/yyyy) Startup Name Industr...</td>\n",
       "    </tr>\n",
       "    <tr>\n",
       "      <th>4</th>\n",
       "      <td>Sr. No. Date (dd/mm/yyyy) Startup Name Industr...</td>\n",
       "      <td>Sr. No. Date (dd/mm/yyyy) Startup Name Industr...</td>\n",
       "      <td>Sr. No. Date (dd/mm/yyyy) Startup Name Industr...</td>\n",
       "    </tr>\n",
       "    <tr>\n",
       "      <th>5</th>\n",
       "      <td>Sr. No. Date (dd/mm/yyyy) Startup Name Industr...</td>\n",
       "      <td>Sr. No. Date (dd/mm/yyyy) Startup Name Industr...</td>\n",
       "      <td>Sr. No. Date (dd/mm/yyyy) Startup Name Industr...</td>\n",
       "    </tr>\n",
       "    <tr>\n",
       "      <th>6</th>\n",
       "      <td>Sr. No. Date (dd/mm/yyyy) Startup Name Industr...</td>\n",
       "      <td>Sr. No. Date (dd/mm/yyyy) Startup Name Industr...</td>\n",
       "      <td>Sr. No. Date (dd/mm/yyyy) Startup Name Industr...</td>\n",
       "    </tr>\n",
       "    <tr>\n",
       "      <th>7</th>\n",
       "      <td>Sr. No. Date (dd/mm/yyyy) Startup Name Industr...</td>\n",
       "      <td>Sr. No. Date (dd/mm/yyyy) Startup Name Industr...</td>\n",
       "      <td>Sr. No. Date (dd/mm/yyyy) Startup Name Industr...</td>\n",
       "    </tr>\n",
       "    <tr>\n",
       "      <th>8</th>\n",
       "      <td>Sr. No. Date (dd/mm/yyyy) Startup Name Industr...</td>\n",
       "      <td>Sr. No. Date (dd/mm/yyyy) Startup Name Industr...</td>\n",
       "      <td>Sr. No. Date (dd/mm/yyyy) Startup Name Industr...</td>\n",
       "    </tr>\n",
       "    <tr>\n",
       "      <th>9</th>\n",
       "      <td>Sr. No. Date (dd/mm/yyyy) Startup Name Industr...</td>\n",
       "      <td>Sr. No. Date (dd/mm/yyyy) Startup Name Industr...</td>\n",
       "      <td>Sr. No. Date (dd/mm/yyyy) Startup Name Industr...</td>\n",
       "    </tr>\n",
       "    <tr>\n",
       "      <th>10</th>\n",
       "      <td>Sr. No. Date (dd/mm/yyyy) Startup Name Industr...</td>\n",
       "      <td>Sr. No. Date (dd/mm/yyyy) Startup Name Industr...</td>\n",
       "      <td>Sr. No. Date (dd/mm/yyyy) Startup Name Industr...</td>\n",
       "    </tr>\n",
       "    <tr>\n",
       "      <th>11</th>\n",
       "      <td>Sr. No. Date (dd/mm/yyyy) Startup Name Industr...</td>\n",
       "      <td>Sr. No. Date (dd/mm/yyyy) Startup Name Industr...</td>\n",
       "      <td>Sr. No. Date (dd/mm/yyyy) Startup Name Industr...</td>\n",
       "    </tr>\n",
       "    <tr>\n",
       "      <th>12</th>\n",
       "      <td>Sr. No. Date (dd/mm/yyyy) Startup Name Industr...</td>\n",
       "      <td>Sr. No. Date (dd/mm/yyyy) Startup Name Industr...</td>\n",
       "      <td>Sr. No. Date (dd/mm/yyyy) Startup Name Industr...</td>\n",
       "    </tr>\n",
       "    <tr>\n",
       "      <th>13</th>\n",
       "      <td>Sr. No. Date (dd/mm/yyyy) Startup Name Industr...</td>\n",
       "      <td>Sr. No. Date (dd/mm/yyyy) Startup Name Industr...</td>\n",
       "      <td>Sr. No. Date (dd/mm/yyyy) Startup Name Industr...</td>\n",
       "    </tr>\n",
       "    <tr>\n",
       "      <th>14</th>\n",
       "      <td>Sr. No. Date (dd/mm/yyyy) Startup Name Industr...</td>\n",
       "      <td>Sr. No. Date (dd/mm/yyyy) Startup Name Industr...</td>\n",
       "      <td>Sr. No. Date (dd/mm/yyyy) Startup Name Industr...</td>\n",
       "    </tr>\n",
       "    <tr>\n",
       "      <th>15</th>\n",
       "      <td>Sr. No. Date (dd/mm/yyyy) Startup Name Industr...</td>\n",
       "      <td>Sr. No. Date (dd/mm/yyyy) Startup Name Industr...</td>\n",
       "      <td>Sr. No. Date (dd/mm/yyyy) Startup Name Industr...</td>\n",
       "    </tr>\n",
       "    <tr>\n",
       "      <th>16</th>\n",
       "      <td>Sr. No. Date (dd/mm/yyyy) Startup Name Industr...</td>\n",
       "      <td>Sr. No. Date (dd/mm/yyyy) Startup Name Industr...</td>\n",
       "      <td>Sr. No. Date (dd/mm/yyyy) Startup Name Industr...</td>\n",
       "    </tr>\n",
       "    <tr>\n",
       "      <th>17</th>\n",
       "      <td>Sr. No. Date (dd/mm/yyyy) Startup Name Industr...</td>\n",
       "      <td>Sr. No. Date (dd/mm/yyyy) Startup Name Industr...</td>\n",
       "      <td>Sr. No. Date (dd/mm/yyyy) Startup Name Industr...</td>\n",
       "    </tr>\n",
       "    <tr>\n",
       "      <th>18</th>\n",
       "      <td>Sr. No. Date (dd/mm/yyyy) Startup Name Industr...</td>\n",
       "      <td>Sr. No. Date (dd/mm/yyyy) Startup Name Industr...</td>\n",
       "      <td>Sr. No. Date (dd/mm/yyyy) Startup Name Industr...</td>\n",
       "    </tr>\n",
       "    <tr>\n",
       "      <th>19</th>\n",
       "      <td>Sr. No. Date (dd/mm/yyyy) Startup Name Industr...</td>\n",
       "      <td>Sr. No. Date (dd/mm/yyyy) Startup Name Industr...</td>\n",
       "      <td>Sr. No. Date (dd/mm/yyyy) Startup Name Industr...</td>\n",
       "    </tr>\n",
       "    <tr>\n",
       "      <th>20</th>\n",
       "      <td>Sr. No. Date (dd/mm/yyyy) Startup Name Industr...</td>\n",
       "      <td>Sr. No. Date (dd/mm/yyyy) Startup Name Industr...</td>\n",
       "      <td>Sr. No. Date (dd/mm/yyyy) Startup Name Industr...</td>\n",
       "    </tr>\n",
       "    <tr>\n",
       "      <th>21</th>\n",
       "      <td>Sr. No. Date (dd/mm/yyyy) Startup Name Industr...</td>\n",
       "      <td>Sr. No. Date (dd/mm/yyyy) Startup Name Industr...</td>\n",
       "      <td>Sr. No. Date (dd/mm/yyyy) Startup Name Industr...</td>\n",
       "    </tr>\n",
       "    <tr>\n",
       "      <th>22</th>\n",
       "      <td>Sr. No. Date (dd/mm/yyyy) Startup Name Industr...</td>\n",
       "      <td>Sr. No. Date (dd/mm/yyyy) Startup Name Industr...</td>\n",
       "      <td>Sr. No. Date (dd/mm/yyyy) Startup Name Industr...</td>\n",
       "    </tr>\n",
       "    <tr>\n",
       "      <th>23</th>\n",
       "      <td>Sr. No. Date (dd/mm/yyyy) Startup Name Industr...</td>\n",
       "      <td>Sr. No. Date (dd/mm/yyyy) Startup Name Industr...</td>\n",
       "      <td>Sr. No. Date (dd/mm/yyyy) Startup Name Industr...</td>\n",
       "    </tr>\n",
       "    <tr>\n",
       "      <th>24</th>\n",
       "      <td>Sr. No. Date (dd/mm/yyyy) Startup Name Industr...</td>\n",
       "      <td>Sr. No. Date (dd/mm/yyyy) Startup Name Industr...</td>\n",
       "      <td>Sr. No. Date (dd/mm/yyyy) Startup Name Industr...</td>\n",
       "    </tr>\n",
       "    <tr>\n",
       "      <th>25</th>\n",
       "      <td>Sr. No. Date (dd/mm/yyyy) Startup Name Industr...</td>\n",
       "      <td>Sr. No. Date (dd/mm/yyyy) Startup Name Industr...</td>\n",
       "      <td>Sr. No. Date (dd/mm/yyyy) Startup Name Industr...</td>\n",
       "    </tr>\n",
       "    <tr>\n",
       "      <th>26</th>\n",
       "      <td>Sr. No. Date (dd/mm/yyyy) Startup Name Industr...</td>\n",
       "      <td>Sr. No. Date (dd/mm/yyyy) Startup Name Industr...</td>\n",
       "      <td>Sr. No. Date (dd/mm/yyyy) Startup Name Industr...</td>\n",
       "    </tr>\n",
       "    <tr>\n",
       "      <th>27</th>\n",
       "      <td>Sr. No. Date (dd/mm/yyyy) Startup Name Industr...</td>\n",
       "      <td>Sr. No. Date (dd/mm/yyyy) Startup Name Industr...</td>\n",
       "      <td>Sr. No. Date (dd/mm/yyyy) Startup Name Industr...</td>\n",
       "    </tr>\n",
       "    <tr>\n",
       "      <th>28</th>\n",
       "      <td>Sr. No. Date (dd/mm/yyyy) Startup Name Industr...</td>\n",
       "      <td>Sr. No. Date (dd/mm/yyyy) Startup Name Industr...</td>\n",
       "      <td>Sr. No. Date (dd/mm/yyyy) Startup Name Industr...</td>\n",
       "    </tr>\n",
       "    <tr>\n",
       "      <th>29</th>\n",
       "      <td>Sr. No. Date (dd/mm/yyyy) Startup Name Industr...</td>\n",
       "      <td>Sr. No. Date (dd/mm/yyyy) Startup Name Industr...</td>\n",
       "      <td>Sr. No. Date (dd/mm/yyyy) Startup Name Industr...</td>\n",
       "    </tr>\n",
       "    <tr>\n",
       "      <th>30</th>\n",
       "      <td>Sr. No. Date (dd/mm/yyyy) Startup Name Industr...</td>\n",
       "      <td>Sr. No. Date (dd/mm/yyyy) Startup Name Industr...</td>\n",
       "      <td>Sr. No. Date (dd/mm/yyyy) Startup Name Industr...</td>\n",
       "    </tr>\n",
       "    <tr>\n",
       "      <th>31</th>\n",
       "      <td>Sr. No. Date (dd/mm/yyyy) Startup Name Industr...</td>\n",
       "      <td>Sr. No. Date (dd/mm/yyyy) Startup Name Industr...</td>\n",
       "      <td>Sr. No. Date (dd/mm/yyyy) Startup Name Industr...</td>\n",
       "    </tr>\n",
       "    <tr>\n",
       "      <th>32</th>\n",
       "      <td>Sr. No. Date (dd/mm/yyyy) Startup Name Industr...</td>\n",
       "      <td>Sr. No. Date (dd/mm/yyyy) Startup Name Industr...</td>\n",
       "      <td>Sr. No. Date (dd/mm/yyyy) Startup Name Industr...</td>\n",
       "    </tr>\n",
       "    <tr>\n",
       "      <th>33</th>\n",
       "      <td>Sr. No. Date (dd/mm/yyyy) Startup Name Industr...</td>\n",
       "      <td>Sr. No. Date (dd/mm/yyyy) Startup Name Industr...</td>\n",
       "      <td>Sr. No. Date (dd/mm/yyyy) Startup Name Industr...</td>\n",
       "    </tr>\n",
       "    <tr>\n",
       "      <th>34</th>\n",
       "      <td>Sr. No. Date (dd/mm/yyyy) Startup Name Industr...</td>\n",
       "      <td>Sr. No. Date (dd/mm/yyyy) Startup Name Industr...</td>\n",
       "      <td>Sr. No. Date (dd/mm/yyyy) Startup Name Industr...</td>\n",
       "    </tr>\n",
       "    <tr>\n",
       "      <th>35</th>\n",
       "      <td>Sr. No. Date (dd/mm/yyyy) Startup Name Industr...</td>\n",
       "      <td>Sr. No. Date (dd/mm/yyyy) Startup Name Industr...</td>\n",
       "      <td>Sr. No. Date (dd/mm/yyyy) Startup Name Industr...</td>\n",
       "    </tr>\n",
       "    <tr>\n",
       "      <th>36</th>\n",
       "      <td>Sr. No. Date (dd/mm/yyyy) Startup Name Industr...</td>\n",
       "      <td>Sr. No. Date (dd/mm/yyyy) Startup Name Industr...</td>\n",
       "      <td>Sr. No. Date (dd/mm/yyyy) Startup Name Industr...</td>\n",
       "    </tr>\n",
       "    <tr>\n",
       "      <th>37</th>\n",
       "      <td>Sr. No. Date (dd/mm/yyyy) Startup Name Industr...</td>\n",
       "      <td>Sr. No. Date (dd/mm/yyyy) Startup Name Industr...</td>\n",
       "      <td>Sr. No. Date (dd/mm/yyyy) Startup Name Industr...</td>\n",
       "    </tr>\n",
       "    <tr>\n",
       "      <th>38</th>\n",
       "      <td>Sr. No. Date (dd/mm/yyyy) Startup Name Industr...</td>\n",
       "      <td>Sr. No. Date (dd/mm/yyyy) Startup Name Industr...</td>\n",
       "      <td>Sr. No. Date (dd/mm/yyyy) Startup Name Industr...</td>\n",
       "    </tr>\n",
       "    <tr>\n",
       "      <th>39</th>\n",
       "      <td>Sr. No. Date (dd/mm/yyyy) Startup Name Industr...</td>\n",
       "      <td>Sr. No. Date (dd/mm/yyyy) Startup Name Industr...</td>\n",
       "      <td>Sr. No. Date (dd/mm/yyyy) Startup Name Industr...</td>\n",
       "    </tr>\n",
       "    <tr>\n",
       "      <th>40</th>\n",
       "      <td>Sr. No. Date (dd/mm/yyyy) Startup Name Industr...</td>\n",
       "      <td>Sr. No. Date (dd/mm/yyyy) Startup Name Industr...</td>\n",
       "      <td>Sr. No. Date (dd/mm/yyyy) Startup Name Industr...</td>\n",
       "    </tr>\n",
       "    <tr>\n",
       "      <th>41</th>\n",
       "      <td>Sr. No. Date (dd/mm/yyyy) Startup Name Industr...</td>\n",
       "      <td>Sr. No. Date (dd/mm/yyyy) Startup Name Industr...</td>\n",
       "      <td>Sr. No. Date (dd/mm/yyyy) Startup Name Industr...</td>\n",
       "    </tr>\n",
       "    <tr>\n",
       "      <th>42</th>\n",
       "      <td>Sr. No. Date (dd/mm/yyyy) Startup Name Industr...</td>\n",
       "      <td>Sr. No. Date (dd/mm/yyyy) Startup Name Industr...</td>\n",
       "      <td>Sr. No. Date (dd/mm/yyyy) Startup Name Industr...</td>\n",
       "    </tr>\n",
       "    <tr>\n",
       "      <th>43</th>\n",
       "      <td>Sr. No. Date (dd/mm/yyyy) Startup Name Industr...</td>\n",
       "      <td>Sr. No. Date (dd/mm/yyyy) Startup Name Industr...</td>\n",
       "      <td>Sr. No. Date (dd/mm/yyyy) Startup Name Industr...</td>\n",
       "    </tr>\n",
       "    <tr>\n",
       "      <th>44</th>\n",
       "      <td>Sr. No. Date (dd/mm/yyyy) Startup Name Industr...</td>\n",
       "      <td>Sr. No. Date (dd/mm/yyyy) Startup Name Industr...</td>\n",
       "      <td>Sr. No. Date (dd/mm/yyyy) Startup Name Industr...</td>\n",
       "    </tr>\n",
       "  </tbody>\n",
       "</table>\n",
       "</div>"
      ],
      "text/plain": [
       "                                                 july  \\\n",
       "0   Sr. No. Date (dd/mm/yyyy) Startup Name Industr...   \n",
       "1   Sr. No. Date (dd/mm/yyyy) Startup Name Industr...   \n",
       "2   Sr. No. Date (dd/mm/yyyy) Startup Name Industr...   \n",
       "3   Sr. No. Date (dd/mm/yyyy) Startup Name Industr...   \n",
       "4   Sr. No. Date (dd/mm/yyyy) Startup Name Industr...   \n",
       "5   Sr. No. Date (dd/mm/yyyy) Startup Name Industr...   \n",
       "6   Sr. No. Date (dd/mm/yyyy) Startup Name Industr...   \n",
       "7   Sr. No. Date (dd/mm/yyyy) Startup Name Industr...   \n",
       "8   Sr. No. Date (dd/mm/yyyy) Startup Name Industr...   \n",
       "9   Sr. No. Date (dd/mm/yyyy) Startup Name Industr...   \n",
       "10  Sr. No. Date (dd/mm/yyyy) Startup Name Industr...   \n",
       "11  Sr. No. Date (dd/mm/yyyy) Startup Name Industr...   \n",
       "12  Sr. No. Date (dd/mm/yyyy) Startup Name Industr...   \n",
       "13  Sr. No. Date (dd/mm/yyyy) Startup Name Industr...   \n",
       "14  Sr. No. Date (dd/mm/yyyy) Startup Name Industr...   \n",
       "15  Sr. No. Date (dd/mm/yyyy) Startup Name Industr...   \n",
       "16  Sr. No. Date (dd/mm/yyyy) Startup Name Industr...   \n",
       "17  Sr. No. Date (dd/mm/yyyy) Startup Name Industr...   \n",
       "18  Sr. No. Date (dd/mm/yyyy) Startup Name Industr...   \n",
       "19  Sr. No. Date (dd/mm/yyyy) Startup Name Industr...   \n",
       "20  Sr. No. Date (dd/mm/yyyy) Startup Name Industr...   \n",
       "21  Sr. No. Date (dd/mm/yyyy) Startup Name Industr...   \n",
       "22  Sr. No. Date (dd/mm/yyyy) Startup Name Industr...   \n",
       "23  Sr. No. Date (dd/mm/yyyy) Startup Name Industr...   \n",
       "24  Sr. No. Date (dd/mm/yyyy) Startup Name Industr...   \n",
       "25  Sr. No. Date (dd/mm/yyyy) Startup Name Industr...   \n",
       "26  Sr. No. Date (dd/mm/yyyy) Startup Name Industr...   \n",
       "27  Sr. No. Date (dd/mm/yyyy) Startup Name Industr...   \n",
       "28  Sr. No. Date (dd/mm/yyyy) Startup Name Industr...   \n",
       "29  Sr. No. Date (dd/mm/yyyy) Startup Name Industr...   \n",
       "30  Sr. No. Date (dd/mm/yyyy) Startup Name Industr...   \n",
       "31  Sr. No. Date (dd/mm/yyyy) Startup Name Industr...   \n",
       "32  Sr. No. Date (dd/mm/yyyy) Startup Name Industr...   \n",
       "33  Sr. No. Date (dd/mm/yyyy) Startup Name Industr...   \n",
       "34  Sr. No. Date (dd/mm/yyyy) Startup Name Industr...   \n",
       "35  Sr. No. Date (dd/mm/yyyy) Startup Name Industr...   \n",
       "36  Sr. No. Date (dd/mm/yyyy) Startup Name Industr...   \n",
       "37  Sr. No. Date (dd/mm/yyyy) Startup Name Industr...   \n",
       "38  Sr. No. Date (dd/mm/yyyy) Startup Name Industr...   \n",
       "39  Sr. No. Date (dd/mm/yyyy) Startup Name Industr...   \n",
       "40  Sr. No. Date (dd/mm/yyyy) Startup Name Industr...   \n",
       "41  Sr. No. Date (dd/mm/yyyy) Startup Name Industr...   \n",
       "42  Sr. No. Date (dd/mm/yyyy) Startup Name Industr...   \n",
       "43  Sr. No. Date (dd/mm/yyyy) Startup Name Industr...   \n",
       "44  Sr. No. Date (dd/mm/yyyy) Startup Name Industr...   \n",
       "\n",
       "                                               august  \\\n",
       "0   Sr. No. Date (dd/mm/yyyy) Startup Name Industr...   \n",
       "1   Sr. No. Date (dd/mm/yyyy) Startup Name Industr...   \n",
       "2   Sr. No. Date (dd/mm/yyyy) Startup Name Industr...   \n",
       "3   Sr. No. Date (dd/mm/yyyy) Startup Name Industr...   \n",
       "4   Sr. No. Date (dd/mm/yyyy) Startup Name Industr...   \n",
       "5   Sr. No. Date (dd/mm/yyyy) Startup Name Industr...   \n",
       "6   Sr. No. Date (dd/mm/yyyy) Startup Name Industr...   \n",
       "7   Sr. No. Date (dd/mm/yyyy) Startup Name Industr...   \n",
       "8   Sr. No. Date (dd/mm/yyyy) Startup Name Industr...   \n",
       "9   Sr. No. Date (dd/mm/yyyy) Startup Name Industr...   \n",
       "10  Sr. No. Date (dd/mm/yyyy) Startup Name Industr...   \n",
       "11  Sr. No. Date (dd/mm/yyyy) Startup Name Industr...   \n",
       "12  Sr. No. Date (dd/mm/yyyy) Startup Name Industr...   \n",
       "13  Sr. No. Date (dd/mm/yyyy) Startup Name Industr...   \n",
       "14  Sr. No. Date (dd/mm/yyyy) Startup Name Industr...   \n",
       "15  Sr. No. Date (dd/mm/yyyy) Startup Name Industr...   \n",
       "16  Sr. No. Date (dd/mm/yyyy) Startup Name Industr...   \n",
       "17  Sr. No. Date (dd/mm/yyyy) Startup Name Industr...   \n",
       "18  Sr. No. Date (dd/mm/yyyy) Startup Name Industr...   \n",
       "19  Sr. No. Date (dd/mm/yyyy) Startup Name Industr...   \n",
       "20  Sr. No. Date (dd/mm/yyyy) Startup Name Industr...   \n",
       "21  Sr. No. Date (dd/mm/yyyy) Startup Name Industr...   \n",
       "22  Sr. No. Date (dd/mm/yyyy) Startup Name Industr...   \n",
       "23  Sr. No. Date (dd/mm/yyyy) Startup Name Industr...   \n",
       "24  Sr. No. Date (dd/mm/yyyy) Startup Name Industr...   \n",
       "25  Sr. No. Date (dd/mm/yyyy) Startup Name Industr...   \n",
       "26  Sr. No. Date (dd/mm/yyyy) Startup Name Industr...   \n",
       "27  Sr. No. Date (dd/mm/yyyy) Startup Name Industr...   \n",
       "28  Sr. No. Date (dd/mm/yyyy) Startup Name Industr...   \n",
       "29  Sr. No. Date (dd/mm/yyyy) Startup Name Industr...   \n",
       "30  Sr. No. Date (dd/mm/yyyy) Startup Name Industr...   \n",
       "31  Sr. No. Date (dd/mm/yyyy) Startup Name Industr...   \n",
       "32  Sr. No. Date (dd/mm/yyyy) Startup Name Industr...   \n",
       "33  Sr. No. Date (dd/mm/yyyy) Startup Name Industr...   \n",
       "34  Sr. No. Date (dd/mm/yyyy) Startup Name Industr...   \n",
       "35  Sr. No. Date (dd/mm/yyyy) Startup Name Industr...   \n",
       "36  Sr. No. Date (dd/mm/yyyy) Startup Name Industr...   \n",
       "37  Sr. No. Date (dd/mm/yyyy) Startup Name Industr...   \n",
       "38  Sr. No. Date (dd/mm/yyyy) Startup Name Industr...   \n",
       "39  Sr. No. Date (dd/mm/yyyy) Startup Name Industr...   \n",
       "40  Sr. No. Date (dd/mm/yyyy) Startup Name Industr...   \n",
       "41  Sr. No. Date (dd/mm/yyyy) Startup Name Industr...   \n",
       "42  Sr. No. Date (dd/mm/yyyy) Startup Name Industr...   \n",
       "43  Sr. No. Date (dd/mm/yyyy) Startup Name Industr...   \n",
       "44  Sr. No. Date (dd/mm/yyyy) Startup Name Industr...   \n",
       "\n",
       "                                            september  \n",
       "0   Sr. No. Date (dd/mm/yyyy) Startup Name Industr...  \n",
       "1   Sr. No. Date (dd/mm/yyyy) Startup Name Industr...  \n",
       "2   Sr. No. Date (dd/mm/yyyy) Startup Name Industr...  \n",
       "3   Sr. No. Date (dd/mm/yyyy) Startup Name Industr...  \n",
       "4   Sr. No. Date (dd/mm/yyyy) Startup Name Industr...  \n",
       "5   Sr. No. Date (dd/mm/yyyy) Startup Name Industr...  \n",
       "6   Sr. No. Date (dd/mm/yyyy) Startup Name Industr...  \n",
       "7   Sr. No. Date (dd/mm/yyyy) Startup Name Industr...  \n",
       "8   Sr. No. Date (dd/mm/yyyy) Startup Name Industr...  \n",
       "9   Sr. No. Date (dd/mm/yyyy) Startup Name Industr...  \n",
       "10  Sr. No. Date (dd/mm/yyyy) Startup Name Industr...  \n",
       "11  Sr. No. Date (dd/mm/yyyy) Startup Name Industr...  \n",
       "12  Sr. No. Date (dd/mm/yyyy) Startup Name Industr...  \n",
       "13  Sr. No. Date (dd/mm/yyyy) Startup Name Industr...  \n",
       "14  Sr. No. Date (dd/mm/yyyy) Startup Name Industr...  \n",
       "15  Sr. No. Date (dd/mm/yyyy) Startup Name Industr...  \n",
       "16  Sr. No. Date (dd/mm/yyyy) Startup Name Industr...  \n",
       "17  Sr. No. Date (dd/mm/yyyy) Startup Name Industr...  \n",
       "18  Sr. No. Date (dd/mm/yyyy) Startup Name Industr...  \n",
       "19  Sr. No. Date (dd/mm/yyyy) Startup Name Industr...  \n",
       "20  Sr. No. Date (dd/mm/yyyy) Startup Name Industr...  \n",
       "21  Sr. No. Date (dd/mm/yyyy) Startup Name Industr...  \n",
       "22  Sr. No. Date (dd/mm/yyyy) Startup Name Industr...  \n",
       "23  Sr. No. Date (dd/mm/yyyy) Startup Name Industr...  \n",
       "24  Sr. No. Date (dd/mm/yyyy) Startup Name Industr...  \n",
       "25  Sr. No. Date (dd/mm/yyyy) Startup Name Industr...  \n",
       "26  Sr. No. Date (dd/mm/yyyy) Startup Name Industr...  \n",
       "27  Sr. No. Date (dd/mm/yyyy) Startup Name Industr...  \n",
       "28  Sr. No. Date (dd/mm/yyyy) Startup Name Industr...  \n",
       "29  Sr. No. Date (dd/mm/yyyy) Startup Name Industr...  \n",
       "30  Sr. No. Date (dd/mm/yyyy) Startup Name Industr...  \n",
       "31  Sr. No. Date (dd/mm/yyyy) Startup Name Industr...  \n",
       "32  Sr. No. Date (dd/mm/yyyy) Startup Name Industr...  \n",
       "33  Sr. No. Date (dd/mm/yyyy) Startup Name Industr...  \n",
       "34  Sr. No. Date (dd/mm/yyyy) Startup Name Industr...  \n",
       "35  Sr. No. Date (dd/mm/yyyy) Startup Name Industr...  \n",
       "36  Sr. No. Date (dd/mm/yyyy) Startup Name Industr...  \n",
       "37  Sr. No. Date (dd/mm/yyyy) Startup Name Industr...  \n",
       "38  Sr. No. Date (dd/mm/yyyy) Startup Name Industr...  \n",
       "39  Sr. No. Date (dd/mm/yyyy) Startup Name Industr...  \n",
       "40  Sr. No. Date (dd/mm/yyyy) Startup Name Industr...  \n",
       "41  Sr. No. Date (dd/mm/yyyy) Startup Name Industr...  \n",
       "42  Sr. No. Date (dd/mm/yyyy) Startup Name Industr...  \n",
       "43  Sr. No. Date (dd/mm/yyyy) Startup Name Industr...  \n",
       "44  Sr. No. Date (dd/mm/yyyy) Startup Name Industr...  "
      ]
     },
     "execution_count": 25,
     "metadata": {},
     "output_type": "execute_result"
    }
   ],
   "source": [
    "entries"
   ]
  },
  {
   "cell_type": "markdown",
   "metadata": {},
   "source": [
    "# Q 7:"
   ]
  },
  {
   "cell_type": "code",
   "execution_count": 26,
   "metadata": {},
   "outputs": [],
   "source": [
    "driver.get('https://www.digit.in/')"
   ]
  },
  {
   "cell_type": "code",
   "execution_count": 30,
   "metadata": {},
   "outputs": [],
   "source": [
    "Laptop=[]"
   ]
  },
  {
   "cell_type": "code",
   "execution_count": 28,
   "metadata": {},
   "outputs": [
    {
     "data": {
      "text/plain": [
       "[<selenium.webdriver.remote.webelement.WebElement (session=\"80f2691b371221f6e9f4313c334d3b07\", element=\"ed6ac8de-579b-462b-b5ac-cd73198a3527\")>,\n",
       " <selenium.webdriver.remote.webelement.WebElement (session=\"80f2691b371221f6e9f4313c334d3b07\", element=\"c78b7f29-9df8-48d5-9967-d37f6923c701\")>,\n",
       " <selenium.webdriver.remote.webelement.WebElement (session=\"80f2691b371221f6e9f4313c334d3b07\", element=\"98ad62c3-9366-4beb-a54f-d847c3f893cd\")>,\n",
       " <selenium.webdriver.remote.webelement.WebElement (session=\"80f2691b371221f6e9f4313c334d3b07\", element=\"b079152a-dbb6-4c53-ac1b-ea3070510c3c\")>,\n",
       " <selenium.webdriver.remote.webelement.WebElement (session=\"80f2691b371221f6e9f4313c334d3b07\", element=\"c733527e-0cdf-49d2-ac86-3a7553504cdc\")>,\n",
       " <selenium.webdriver.remote.webelement.WebElement (session=\"80f2691b371221f6e9f4313c334d3b07\", element=\"7e4929e9-bbf4-4563-9d90-76ee24a480ff\")>,\n",
       " <selenium.webdriver.remote.webelement.WebElement (session=\"80f2691b371221f6e9f4313c334d3b07\", element=\"cbe72e0f-aeea-4db4-a7d1-7644c9d1b54a\")>,\n",
       " <selenium.webdriver.remote.webelement.WebElement (session=\"80f2691b371221f6e9f4313c334d3b07\", element=\"4264731a-3d25-4de6-9e0b-10d3a162d6e0\")>,\n",
       " <selenium.webdriver.remote.webelement.WebElement (session=\"80f2691b371221f6e9f4313c334d3b07\", element=\"742995df-eec1-48b7-ba77-ef771693700c\")>,\n",
       " <selenium.webdriver.remote.webelement.WebElement (session=\"80f2691b371221f6e9f4313c334d3b07\", element=\"d0c9e599-d8d7-4bbb-bd4e-83ffc2bab24c\")>]"
      ]
     },
     "execution_count": 28,
     "metadata": {},
     "output_type": "execute_result"
    }
   ],
   "source": [
    "#so lets extract all the tags having the laptops\n",
    "laptop=driver.find_elements_by_xpath(\"//div[@class='searchProduct-desc']\")\n",
    "laptop[0:10]"
   ]
  },
  {
   "cell_type": "code",
   "execution_count": 31,
   "metadata": {},
   "outputs": [
    {
     "data": {
      "text/plain": [
       "['HP Envy 15-k006tx',\n",
       " 'Asus G750JX-CV069P',\n",
       " \"ASUS G53J - A 3D gamer's delight but we want more\",\n",
       " 'Dell Inspiron 15 7567 Gaming',\n",
       " 'LENOVO LEGION Y540',\n",
       " 'Microsoft Sculpt Mobile Mouse',\n",
       " 'Asus A555LF-XO255D',\n",
       " 'Dell Vostro 3401',\n",
       " 'MSI PS42 Creator PC',\n",
       " 'Dell Inspiron 15 7567 Gaming Intel Core i5']"
      ]
     },
     "execution_count": 31,
     "metadata": {},
     "output_type": "execute_result"
    }
   ],
   "source": [
    "#Now the text of the laptop is insid the tags extracted above.\n",
    "\n",
    "#so we will run a loop to iterate over the tags extracted above and extract the text inside them\n",
    "\n",
    "for i in laptop:\n",
    "    gaming=i.text\n",
    "    Laptop.append(gaming)\n",
    "Laptop[0:10]"
   ]
  },
  {
   "cell_type": "code",
   "execution_count": 32,
   "metadata": {},
   "outputs": [
    {
     "name": "stdout",
     "output_type": "stream",
     "text": [
      "10\n"
     ]
    }
   ],
   "source": [
    "print(len(Laptop))"
   ]
  },
  {
   "cell_type": "code",
   "execution_count": 36,
   "metadata": {},
   "outputs": [],
   "source": [
    "\n",
    "\n",
    "#import pandas as pd\n",
    "entries=pd.DataFrame({})\n",
    "entries['gaming']=Laptop"
   ]
  },
  {
   "cell_type": "code",
   "execution_count": 37,
   "metadata": {},
   "outputs": [
    {
     "data": {
      "text/html": [
       "<div>\n",
       "<style scoped>\n",
       "    .dataframe tbody tr th:only-of-type {\n",
       "        vertical-align: middle;\n",
       "    }\n",
       "\n",
       "    .dataframe tbody tr th {\n",
       "        vertical-align: top;\n",
       "    }\n",
       "\n",
       "    .dataframe thead th {\n",
       "        text-align: right;\n",
       "    }\n",
       "</style>\n",
       "<table border=\"1\" class=\"dataframe\">\n",
       "  <thead>\n",
       "    <tr style=\"text-align: right;\">\n",
       "      <th></th>\n",
       "      <th>gaming</th>\n",
       "    </tr>\n",
       "  </thead>\n",
       "  <tbody>\n",
       "    <tr>\n",
       "      <th>0</th>\n",
       "      <td>HP Envy 15-k006tx</td>\n",
       "    </tr>\n",
       "    <tr>\n",
       "      <th>1</th>\n",
       "      <td>Asus G750JX-CV069P</td>\n",
       "    </tr>\n",
       "    <tr>\n",
       "      <th>2</th>\n",
       "      <td>ASUS G53J - A 3D gamer's delight but we want more</td>\n",
       "    </tr>\n",
       "    <tr>\n",
       "      <th>3</th>\n",
       "      <td>Dell Inspiron 15 7567 Gaming</td>\n",
       "    </tr>\n",
       "    <tr>\n",
       "      <th>4</th>\n",
       "      <td>LENOVO LEGION Y540</td>\n",
       "    </tr>\n",
       "    <tr>\n",
       "      <th>5</th>\n",
       "      <td>Microsoft Sculpt Mobile Mouse</td>\n",
       "    </tr>\n",
       "    <tr>\n",
       "      <th>6</th>\n",
       "      <td>Asus A555LF-XO255D</td>\n",
       "    </tr>\n",
       "    <tr>\n",
       "      <th>7</th>\n",
       "      <td>Dell Vostro 3401</td>\n",
       "    </tr>\n",
       "    <tr>\n",
       "      <th>8</th>\n",
       "      <td>MSI PS42 Creator PC</td>\n",
       "    </tr>\n",
       "    <tr>\n",
       "      <th>9</th>\n",
       "      <td>Dell Inspiron 15 7567 Gaming Intel Core i5</td>\n",
       "    </tr>\n",
       "  </tbody>\n",
       "</table>\n",
       "</div>"
      ],
      "text/plain": [
       "                                              gaming\n",
       "0                                  HP Envy 15-k006tx\n",
       "1                                 Asus G750JX-CV069P\n",
       "2  ASUS G53J - A 3D gamer's delight but we want more\n",
       "3                       Dell Inspiron 15 7567 Gaming\n",
       "4                                 LENOVO LEGION Y540\n",
       "5                      Microsoft Sculpt Mobile Mouse\n",
       "6                                 Asus A555LF-XO255D\n",
       "7                                   Dell Vostro 3401\n",
       "8                                MSI PS42 Creator PC\n",
       "9         Dell Inspiron 15 7567 Gaming Intel Core i5"
      ]
     },
     "execution_count": 37,
     "metadata": {},
     "output_type": "execute_result"
    }
   ],
   "source": [
    "entries"
   ]
  },
  {
   "cell_type": "code",
   "execution_count": null,
   "metadata": {},
   "outputs": [],
   "source": []
  }
 ],
 "metadata": {
  "kernelspec": {
   "display_name": "Python 3",
   "language": "python",
   "name": "python3"
  },
  "language_info": {
   "codemirror_mode": {
    "name": "ipython",
    "version": 3
   },
   "file_extension": ".py",
   "mimetype": "text/x-python",
   "name": "python",
   "nbconvert_exporter": "python",
   "pygments_lexer": "ipython3",
   "version": "3.8.5"
  }
 },
 "nbformat": 4,
 "nbformat_minor": 4
}
